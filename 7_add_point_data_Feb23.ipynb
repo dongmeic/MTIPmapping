{
 "cells": [
  {
   "cell_type": "code",
   "execution_count": 1,
   "id": "354e16cd",
   "metadata": {},
   "outputs": [
    {
     "name": "stderr",
     "output_type": "stream",
     "text": [
      "C:\\Users\\clid1852\\AppData\\Anaconda3\\envs\\geoenv\\lib\\site-packages\\geopandas\\_compat.py:106: UserWarning: The Shapely GEOS version (3.9.1dev-CAPI-1.14.1) is incompatible with the GEOS version PyGEOS was compiled with (3.9.1-CAPI-1.14.2). Conversions between both will be slow.\n",
      "  warnings.warn(\n"
     ]
    }
   ],
   "source": [
    "import pandas as pd\n",
    "import numpy as np\n",
    "from geopandas import GeoDataFrame\n",
    "from shapely.geometry import Point\n",
    "import os\n",
    "from shapely.geos import lgeos\n",
    "from MTIPmapping import *"
   ]
  },
  {
   "cell_type": "code",
   "execution_count": 2,
   "id": "584e5542",
   "metadata": {},
   "outputs": [],
   "source": [
    "path = r'T:\\MPO\\TIP\\TIP FY24-27\\Maps\\Data'"
   ]
  },
  {
   "cell_type": "code",
   "execution_count": 3,
   "id": "b216583d",
   "metadata": {},
   "outputs": [],
   "source": [
    "data = pd.read_excel(r'T:\\MPO\\TIP\\TIP FY24-27\\Maps\\20221215 DRAFT MTIP24_27_List_IDs.xlsx')"
   ]
  },
  {
   "cell_type": "code",
   "execution_count": 4,
   "id": "2d6e2785",
   "metadata": {},
   "outputs": [
    {
     "data": {
      "text/plain": [
       "Index(['Geo', 'Project Name', 'MTIP ID #', 'Project Description', 'Work Type',\n",
       "       'Perf. Meas.', 'RTP Project Number / Ref.', 'In AQ CATS?', 'In\\nAQMA?',\n",
       "       'Air Quality Status', 'STIP Key', 'FFY', 'Phase', 'Phase Status',\n",
       "       'Federal Funding ', 'Federal Funding Source', 'Federal Req. Match',\n",
       "       'Federal Req. Match Source', 'Total Fed+ Req Match', 'Other Funding',\n",
       "       'Other Funding Source', 'Total All Sources', 'AQ Exempt?', 'AQ Status',\n",
       "       'IAC', 'Senator District', 'Representative District', 'ID'],\n",
       "      dtype='object')"
      ]
     },
     "execution_count": 4,
     "metadata": {},
     "output_type": "execute_result"
    }
   ],
   "source": [
    "data.columns"
   ]
  },
  {
   "cell_type": "code",
   "execution_count": 5,
   "id": "0e5e9be5",
   "metadata": {},
   "outputs": [],
   "source": [
    "newpts = pd.read_excel(path+'\\\\NewData20230127.xlsx')"
   ]
  },
  {
   "cell_type": "code",
   "execution_count": 6,
   "id": "d6f663e0",
   "metadata": {},
   "outputs": [
    {
     "data": {
      "text/plain": [
       "Index(['Project Name', 'STIP Key', 'LatLon'], dtype='object')"
      ]
     },
     "execution_count": 6,
     "metadata": {},
     "output_type": "execute_result"
    }
   ],
   "source": [
    "newpts.columns"
   ]
  },
  {
   "cell_type": "code",
   "execution_count": 7,
   "id": "b9536cfe",
   "metadata": {},
   "outputs": [],
   "source": [
    "newpts.loc[:, 'Longitude'] = newpts.LatLon.apply(lambda x: getLonLat(x)[1])\n",
    "newpts.loc[:, 'Latitude'] = newpts.LatLon.apply(lambda x: getLonLat(x)[0])"
   ]
  },
  {
   "cell_type": "code",
   "execution_count": 8,
   "id": "f995b771",
   "metadata": {},
   "outputs": [],
   "source": [
    "newpts.drop('LatLon', axis=1, inplace=True)"
   ]
  },
  {
   "cell_type": "code",
   "execution_count": 9,
   "id": "a3c13d55",
   "metadata": {},
   "outputs": [
    {
     "data": {
      "text/html": [
       "<div>\n",
       "<style scoped>\n",
       "    .dataframe tbody tr th:only-of-type {\n",
       "        vertical-align: middle;\n",
       "    }\n",
       "\n",
       "    .dataframe tbody tr th {\n",
       "        vertical-align: top;\n",
       "    }\n",
       "\n",
       "    .dataframe thead th {\n",
       "        text-align: right;\n",
       "    }\n",
       "</style>\n",
       "<table border=\"1\" class=\"dataframe\">\n",
       "  <thead>\n",
       "    <tr style=\"text-align: right;\">\n",
       "      <th></th>\n",
       "      <th>Project Name</th>\n",
       "      <th>STIP Key</th>\n",
       "      <th>Longitude</th>\n",
       "      <th>Latitude</th>\n",
       "    </tr>\n",
       "  </thead>\n",
       "  <tbody>\n",
       "    <tr>\n",
       "      <th>0</th>\n",
       "      <td>Ferry St over SPRR, 4th, 6th, 7th Aves (City o...</td>\n",
       "      <td>23121</td>\n",
       "      <td>-123.086188</td>\n",
       "      <td>44.0544559</td>\n",
       "    </tr>\n",
       "    <tr>\n",
       "      <th>1</th>\n",
       "      <td>I-5: NB McKenzie overflow bridge (MP 196.19)</td>\n",
       "      <td>23131</td>\n",
       "      <td>-123.045245</td>\n",
       "      <td>44.094775</td>\n",
       "    </tr>\n",
       "    <tr>\n",
       "      <th>2</th>\n",
       "      <td>I-5: NB McKenzie overflow bridge (MP 196.69)</td>\n",
       "      <td>23130</td>\n",
       "      <td>-123.044359</td>\n",
       "      <td>44.101991</td>\n",
       "    </tr>\n",
       "    <tr>\n",
       "      <th>3</th>\n",
       "      <td>I-5: Northbound Muddy Creek bridge (Lane County)</td>\n",
       "      <td>23128</td>\n",
       "      <td>-123.056861</td>\n",
       "      <td>44.156434</td>\n",
       "    </tr>\n",
       "    <tr>\n",
       "      <th>4</th>\n",
       "      <td>OR569: Beltline ramp signal replacement at MP ...</td>\n",
       "      <td>22796</td>\n",
       "      <td>-123.091053</td>\n",
       "      <td>44.089546</td>\n",
       "    </tr>\n",
       "  </tbody>\n",
       "</table>\n",
       "</div>"
      ],
      "text/plain": [
       "                                        Project Name  STIP Key    Longitude  \\\n",
       "0  Ferry St over SPRR, 4th, 6th, 7th Aves (City o...     23121  -123.086188   \n",
       "1       I-5: NB McKenzie overflow bridge (MP 196.19)     23131  -123.045245   \n",
       "2       I-5: NB McKenzie overflow bridge (MP 196.69)     23130  -123.044359   \n",
       "3   I-5: Northbound Muddy Creek bridge (Lane County)     23128  -123.056861   \n",
       "4  OR569: Beltline ramp signal replacement at MP ...     22796  -123.091053   \n",
       "\n",
       "     Latitude  \n",
       "0  44.0544559  \n",
       "1   44.094775  \n",
       "2   44.101991  \n",
       "3   44.156434  \n",
       "4   44.089546  "
      ]
     },
     "execution_count": 9,
     "metadata": {},
     "output_type": "execute_result"
    }
   ],
   "source": [
    "newpts"
   ]
  },
  {
   "cell_type": "code",
   "execution_count": 10,
   "id": "21d48910",
   "metadata": {},
   "outputs": [
    {
     "data": {
      "text/plain": [
       "[]"
      ]
     },
     "execution_count": 10,
     "metadata": {},
     "output_type": "execute_result"
    }
   ],
   "source": [
    "# those are new projects\n",
    "[key for key in newpts['STIP Key'].values if key in data['STIP Key'].values]"
   ]
  },
  {
   "cell_type": "code",
   "execution_count": 11,
   "id": "05c8cfe8",
   "metadata": {},
   "outputs": [
    {
     "data": {
      "text/html": [
       "<div>\n",
       "<style scoped>\n",
       "    .dataframe tbody tr th:only-of-type {\n",
       "        vertical-align: middle;\n",
       "    }\n",
       "\n",
       "    .dataframe tbody tr th {\n",
       "        vertical-align: top;\n",
       "    }\n",
       "\n",
       "    .dataframe thead th {\n",
       "        text-align: right;\n",
       "    }\n",
       "</style>\n",
       "<table border=\"1\" class=\"dataframe\">\n",
       "  <thead>\n",
       "    <tr style=\"text-align: right;\">\n",
       "      <th></th>\n",
       "      <th>Geo</th>\n",
       "      <th>Project Name</th>\n",
       "      <th>MTIP ID #</th>\n",
       "      <th>Project Description</th>\n",
       "      <th>Work Type</th>\n",
       "      <th>Perf. Meas.</th>\n",
       "      <th>RTP Project Number / Ref.</th>\n",
       "      <th>In AQ CATS?</th>\n",
       "      <th>In\\nAQMA?</th>\n",
       "      <th>Air Quality Status</th>\n",
       "      <th>...</th>\n",
       "      <th>Total Fed+ Req Match</th>\n",
       "      <th>Other Funding</th>\n",
       "      <th>Other Funding Source</th>\n",
       "      <th>Total All Sources</th>\n",
       "      <th>AQ Exempt?</th>\n",
       "      <th>AQ Status</th>\n",
       "      <th>IAC</th>\n",
       "      <th>Senator District</th>\n",
       "      <th>Representative District</th>\n",
       "      <th>ID</th>\n",
       "    </tr>\n",
       "  </thead>\n",
       "  <tbody>\n",
       "    <tr>\n",
       "      <th>0</th>\n",
       "      <td>Central Lane MPO</td>\n",
       "      <td>Central Lane MPO planning SFY25</td>\n",
       "      <td>191003.0</td>\n",
       "      <td>Central Lane MPO planning funds for Federal fi...</td>\n",
       "      <td>PL</td>\n",
       "      <td>--</td>\n",
       "      <td>--</td>\n",
       "      <td>NaN</td>\n",
       "      <td>NaN</td>\n",
       "      <td>EXEMPT / Other-Planning and Technical Studies ...</td>\n",
       "      <td>...</td>\n",
       "      <td>630235.00</td>\n",
       "      <td>NaN</td>\n",
       "      <td>NaN</td>\n",
       "      <td>630235.00</td>\n",
       "      <td>Yes</td>\n",
       "      <td>Other-Planning and Technical Studies</td>\n",
       "      <td>IAC conf 4/26/20</td>\n",
       "      <td>NaN</td>\n",
       "      <td>NaN</td>\n",
       "      <td>NaN</td>\n",
       "    </tr>\n",
       "    <tr>\n",
       "      <th>1</th>\n",
       "      <td>Central Lane MPO</td>\n",
       "      <td>NaN</td>\n",
       "      <td>NaN</td>\n",
       "      <td>NaN</td>\n",
       "      <td>NaN</td>\n",
       "      <td>NaN</td>\n",
       "      <td>NaN</td>\n",
       "      <td>NaN</td>\n",
       "      <td>NaN</td>\n",
       "      <td>NaN</td>\n",
       "      <td>...</td>\n",
       "      <td>189247.75</td>\n",
       "      <td>NaN</td>\n",
       "      <td>NaN</td>\n",
       "      <td>189247.75</td>\n",
       "      <td>NaN</td>\n",
       "      <td>NaN</td>\n",
       "      <td>NaN</td>\n",
       "      <td>NaN</td>\n",
       "      <td>NaN</td>\n",
       "      <td>NaN</td>\n",
       "    </tr>\n",
       "    <tr>\n",
       "      <th>2</th>\n",
       "      <td>Central Lane MPO</td>\n",
       "      <td>Central Lane MPO planning SFY26</td>\n",
       "      <td>230501.0</td>\n",
       "      <td>Planning funds for projects identified in stat...</td>\n",
       "      <td>PL</td>\n",
       "      <td>--</td>\n",
       "      <td>--</td>\n",
       "      <td>NaN</td>\n",
       "      <td>NaN</td>\n",
       "      <td>EXEMPT / Other-Planning and Technical Studies</td>\n",
       "      <td>...</td>\n",
       "      <td>832887.52</td>\n",
       "      <td>NaN</td>\n",
       "      <td>NaN</td>\n",
       "      <td>832887.52</td>\n",
       "      <td>Yes</td>\n",
       "      <td>Other-Planning and Technical Studies</td>\n",
       "      <td>NaN</td>\n",
       "      <td>NaN</td>\n",
       "      <td>NaN</td>\n",
       "      <td>NaN</td>\n",
       "    </tr>\n",
       "  </tbody>\n",
       "</table>\n",
       "<p>3 rows × 28 columns</p>\n",
       "</div>"
      ],
      "text/plain": [
       "                Geo                     Project Name  MTIP ID #  \\\n",
       "0  Central Lane MPO  Central Lane MPO planning SFY25   191003.0   \n",
       "1  Central Lane MPO                              NaN        NaN   \n",
       "2  Central Lane MPO  Central Lane MPO planning SFY26   230501.0   \n",
       "\n",
       "                                 Project Description Work Type Perf. Meas.  \\\n",
       "0  Central Lane MPO planning funds for Federal fi...        PL          --   \n",
       "1                                                NaN       NaN         NaN   \n",
       "2  Planning funds for projects identified in stat...        PL          --   \n",
       "\n",
       "  RTP Project Number / Ref.  In AQ CATS?  In\\nAQMA?  \\\n",
       "0                        --          NaN        NaN   \n",
       "1                       NaN          NaN        NaN   \n",
       "2                        --          NaN        NaN   \n",
       "\n",
       "                                  Air Quality Status  ...  \\\n",
       "0  EXEMPT / Other-Planning and Technical Studies ...  ...   \n",
       "1                                                NaN  ...   \n",
       "2      EXEMPT / Other-Planning and Technical Studies  ...   \n",
       "\n",
       "   Total Fed+ Req Match  Other Funding Other Funding Source Total All Sources  \\\n",
       "0             630235.00            NaN                  NaN         630235.00   \n",
       "1             189247.75            NaN                  NaN         189247.75   \n",
       "2             832887.52            NaN                  NaN         832887.52   \n",
       "\n",
       "   AQ Exempt?                             AQ Status               IAC  \\\n",
       "0         Yes  Other-Planning and Technical Studies  IAC conf 4/26/20   \n",
       "1         NaN                                   NaN               NaN   \n",
       "2         Yes  Other-Planning and Technical Studies               NaN   \n",
       "\n",
       "  Senator District  Representative District  ID  \n",
       "0              NaN                      NaN NaN  \n",
       "1              NaN                      NaN NaN  \n",
       "2              NaN                      NaN NaN  \n",
       "\n",
       "[3 rows x 28 columns]"
      ]
     },
     "execution_count": 11,
     "metadata": {},
     "output_type": "execute_result"
    }
   ],
   "source": [
    "data.head(3)"
   ]
  },
  {
   "cell_type": "code",
   "execution_count": 12,
   "id": "b2a52c13",
   "metadata": {},
   "outputs": [
    {
     "data": {
      "text/plain": [
       "36"
      ]
     },
     "execution_count": 12,
     "metadata": {},
     "output_type": "execute_result"
    }
   ],
   "source": [
    "# check the last number assigned for ID\n",
    "a = data.ID.unique()\n",
    "int(max(a[~np.isnan(a)]))"
   ]
  },
  {
   "cell_type": "code",
   "execution_count": 13,
   "id": "2991a9f5",
   "metadata": {},
   "outputs": [],
   "source": [
    "startNm = int(max(a[~np.isnan(a)])) + 1"
   ]
  },
  {
   "cell_type": "code",
   "execution_count": 14,
   "id": "940940b2",
   "metadata": {},
   "outputs": [],
   "source": [
    "newpts['ID'] = list(range(startNm, startNm + newpts.shape[0]))"
   ]
  },
  {
   "cell_type": "code",
   "execution_count": 15,
   "id": "6da1d7ad",
   "metadata": {},
   "outputs": [],
   "source": [
    "gdf = gpd.GeoDataFrame(newpts, geometry=gpd.points_from_xy(newpts.Longitude, newpts.Latitude))"
   ]
  },
  {
   "cell_type": "code",
   "execution_count": 16,
   "id": "e1614cb5",
   "metadata": {},
   "outputs": [
    {
     "data": {
      "text/html": [
       "<div>\n",
       "<style scoped>\n",
       "    .dataframe tbody tr th:only-of-type {\n",
       "        vertical-align: middle;\n",
       "    }\n",
       "\n",
       "    .dataframe tbody tr th {\n",
       "        vertical-align: top;\n",
       "    }\n",
       "\n",
       "    .dataframe thead th {\n",
       "        text-align: right;\n",
       "    }\n",
       "</style>\n",
       "<table border=\"1\" class=\"dataframe\">\n",
       "  <thead>\n",
       "    <tr style=\"text-align: right;\">\n",
       "      <th></th>\n",
       "      <th>Project Name</th>\n",
       "      <th>STIP Key</th>\n",
       "      <th>Longitude</th>\n",
       "      <th>Latitude</th>\n",
       "      <th>ID</th>\n",
       "      <th>geometry</th>\n",
       "    </tr>\n",
       "  </thead>\n",
       "  <tbody>\n",
       "    <tr>\n",
       "      <th>0</th>\n",
       "      <td>Ferry St over SPRR, 4th, 6th, 7th Aves (City o...</td>\n",
       "      <td>23121</td>\n",
       "      <td>-123.086188</td>\n",
       "      <td>44.0544559</td>\n",
       "      <td>37</td>\n",
       "      <td>POINT (-123.08619 44.05446)</td>\n",
       "    </tr>\n",
       "    <tr>\n",
       "      <th>1</th>\n",
       "      <td>I-5: NB McKenzie overflow bridge (MP 196.19)</td>\n",
       "      <td>23131</td>\n",
       "      <td>-123.045245</td>\n",
       "      <td>44.094775</td>\n",
       "      <td>38</td>\n",
       "      <td>POINT (-123.04524 44.09477)</td>\n",
       "    </tr>\n",
       "    <tr>\n",
       "      <th>2</th>\n",
       "      <td>I-5: NB McKenzie overflow bridge (MP 196.69)</td>\n",
       "      <td>23130</td>\n",
       "      <td>-123.044359</td>\n",
       "      <td>44.101991</td>\n",
       "      <td>39</td>\n",
       "      <td>POINT (-123.04436 44.10199)</td>\n",
       "    </tr>\n",
       "    <tr>\n",
       "      <th>3</th>\n",
       "      <td>I-5: Northbound Muddy Creek bridge (Lane County)</td>\n",
       "      <td>23128</td>\n",
       "      <td>-123.056861</td>\n",
       "      <td>44.156434</td>\n",
       "      <td>40</td>\n",
       "      <td>POINT (-123.05686 44.15643)</td>\n",
       "    </tr>\n",
       "    <tr>\n",
       "      <th>4</th>\n",
       "      <td>OR569: Beltline ramp signal replacement at MP ...</td>\n",
       "      <td>22796</td>\n",
       "      <td>-123.091053</td>\n",
       "      <td>44.089546</td>\n",
       "      <td>41</td>\n",
       "      <td>POINT (-123.09105 44.08955)</td>\n",
       "    </tr>\n",
       "  </tbody>\n",
       "</table>\n",
       "</div>"
      ],
      "text/plain": [
       "                                        Project Name  STIP Key    Longitude  \\\n",
       "0  Ferry St over SPRR, 4th, 6th, 7th Aves (City o...     23121  -123.086188   \n",
       "1       I-5: NB McKenzie overflow bridge (MP 196.19)     23131  -123.045245   \n",
       "2       I-5: NB McKenzie overflow bridge (MP 196.69)     23130  -123.044359   \n",
       "3   I-5: Northbound Muddy Creek bridge (Lane County)     23128  -123.056861   \n",
       "4  OR569: Beltline ramp signal replacement at MP ...     22796  -123.091053   \n",
       "\n",
       "     Latitude  ID                     geometry  \n",
       "0  44.0544559  37  POINT (-123.08619 44.05446)  \n",
       "1   44.094775  38  POINT (-123.04524 44.09477)  \n",
       "2   44.101991  39  POINT (-123.04436 44.10199)  \n",
       "3   44.156434  40  POINT (-123.05686 44.15643)  \n",
       "4   44.089546  41  POINT (-123.09105 44.08955)  "
      ]
     },
     "execution_count": 16,
     "metadata": {},
     "output_type": "execute_result"
    }
   ],
   "source": [
    "gdf"
   ]
  },
  {
   "cell_type": "code",
   "execution_count": 17,
   "id": "a33a945f",
   "metadata": {},
   "outputs": [],
   "source": [
    "points = gpd.read_file(os.path.join(path, 'FY24_27_points.shp'))"
   ]
  },
  {
   "cell_type": "code",
   "execution_count": 18,
   "id": "f9a7fa06",
   "metadata": {},
   "outputs": [],
   "source": [
    "gdf.rename(columns={'STIP Key':'STIP_Key'}, inplace=True)"
   ]
  },
  {
   "cell_type": "code",
   "execution_count": 19,
   "id": "86730f29",
   "metadata": {},
   "outputs": [
    {
     "data": {
      "text/plain": [
       "True"
      ]
     },
     "execution_count": 19,
     "metadata": {},
     "output_type": "execute_result"
    }
   ],
   "source": [
    "gdf.crs is None"
   ]
  },
  {
   "cell_type": "code",
   "execution_count": 20,
   "id": "9ee3cfb5",
   "metadata": {},
   "outputs": [],
   "source": [
    "gdf = gdf.set_crs('epsg:4326')"
   ]
  },
  {
   "cell_type": "code",
   "execution_count": 21,
   "id": "0921fe0a",
   "metadata": {},
   "outputs": [],
   "source": [
    "gdf = gdf.to_crs(epsg=2992)"
   ]
  },
  {
   "cell_type": "code",
   "execution_count": 22,
   "id": "0dad5f1d",
   "metadata": {},
   "outputs": [],
   "source": [
    "points_added = points.append(gdf[points.columns], ignore_index=True)"
   ]
  },
  {
   "cell_type": "code",
   "execution_count": 23,
   "id": "af71024f",
   "metadata": {},
   "outputs": [
    {
     "data": {
      "image/png": "[encoded data removed]",
      "text/plain": [
       "<Figure size 640x480 with 1 Axes>"
      ]
     },
     "metadata": {},
     "output_type": "display_data"
    }
   ],
   "source": [
    "df = points_added\n",
    "ax = df.plot()\n",
    "df.apply(lambda x: ax.annotate(text=x['ID'], xy=x.geometry.coords[0], ha='right'), axis=1);"
   ]
  },
  {
   "cell_type": "code",
   "execution_count": 24,
   "id": "06fa9eb0",
   "metadata": {},
   "outputs": [],
   "source": [
    "#%pip install shapely==1.8.5"
   ]
  },
  {
   "cell_type": "code",
   "execution_count": 29,
   "id": "6f6f7bc5",
   "metadata": {},
   "outputs": [],
   "source": [
    "pointdata = get_district_IDs(dat=gdf, shptype='point', keycol='STIP_Key', \n",
    "                             colnm1='Senator District', colnm2='Representative District')"
   ]
  },
  {
   "cell_type": "code",
   "execution_count": 31,
   "id": "2d21864f",
   "metadata": {},
   "outputs": [],
   "source": [
    "pointdata.to_csv(path+'\\\\new_points_districtIDs_20230127.csv', index=False)"
   ]
  },
  {
   "cell_type": "code",
   "execution_count": 33,
   "id": "057f5eb7",
   "metadata": {},
   "outputs": [],
   "source": [
    "points_added.to_file(os.path.join(path, 'FY24_27_points.shp'))"
   ]
  }
 ],
 "metadata": {
  "kernelspec": {
   "display_name": "Python 3 (ipykernel)",
   "language": "python",
   "name": "python3"
  },
  "language_info": {
   "codemirror_mode": {
    "name": "ipython",
    "version": 3
   },
   "file_extension": ".py",
   "mimetype": "text/x-python",
   "name": "python",
   "nbconvert_exporter": "python",
   "pygments_lexer": "ipython3",
   "version": "3.8.15"
  }
 },
 "nbformat": 4,
 "nbformat_minor": 5
}
