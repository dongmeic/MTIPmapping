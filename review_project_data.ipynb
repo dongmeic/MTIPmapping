{
 "cells": [
  {
   "cell_type": "code",
   "execution_count": 1,
   "id": "67585065",
   "metadata": {},
   "outputs": [],
   "source": [
    "import pandas as pd\n",
    "import geopandas as gpd\n",
    "import os"
   ]
  },
  {
   "cell_type": "code",
   "execution_count": 25,
   "id": "10f20dca",
   "metadata": {},
   "outputs": [],
   "source": [
    "path = r'T:\\MPO\\TIP\\TIP FY24-27\\Maps\\Data'"
   ]
  },
  {
   "cell_type": "code",
   "execution_count": 26,
   "id": "c8aad006",
   "metadata": {},
   "outputs": [],
   "source": [
    "file = path + '\\\\MTIP24_27_List.xlsx'"
   ]
  },
  {
   "cell_type": "code",
   "execution_count": 27,
   "id": "e0277a6e",
   "metadata": {},
   "outputs": [],
   "source": [
    "data = pd.read_excel(file)"
   ]
  },
  {
   "cell_type": "code",
   "execution_count": 18,
   "id": "0e6fcba6",
   "metadata": {},
   "outputs": [
    {
     "data": {
      "text/html": [
       "<div>\n",
       "<style scoped>\n",
       "    .dataframe tbody tr th:only-of-type {\n",
       "        vertical-align: middle;\n",
       "    }\n",
       "\n",
       "    .dataframe tbody tr th {\n",
       "        vertical-align: top;\n",
       "    }\n",
       "\n",
       "    .dataframe thead th {\n",
       "        text-align: right;\n",
       "    }\n",
       "</style>\n",
       "<table border=\"1\" class=\"dataframe\">\n",
       "  <thead>\n",
       "    <tr style=\"text-align: right;\">\n",
       "      <th></th>\n",
       "      <th>Geo</th>\n",
       "      <th>Project Name</th>\n",
       "      <th>MTIP ID #</th>\n",
       "      <th>Project Description</th>\n",
       "      <th>Work Type</th>\n",
       "      <th>Perf. Meas.</th>\n",
       "      <th>RTP Project Number / Ref.</th>\n",
       "      <th>In AQ CATS?</th>\n",
       "      <th>In\\nAQMA?</th>\n",
       "      <th>Air Quality Status</th>\n",
       "      <th>...</th>\n",
       "      <th>Phase</th>\n",
       "      <th>Phase Status</th>\n",
       "      <th>Federal Funding</th>\n",
       "      <th>Federal Funding Source</th>\n",
       "      <th>Federal Req. Match</th>\n",
       "      <th>Federal Req. Match Source</th>\n",
       "      <th>Total Fed+ Req Match</th>\n",
       "      <th>Other Funding</th>\n",
       "      <th>Other Funding Source</th>\n",
       "      <th>Total All Sources</th>\n",
       "    </tr>\n",
       "  </thead>\n",
       "  <tbody>\n",
       "    <tr>\n",
       "      <th>0</th>\n",
       "      <td>Central Lane MPO</td>\n",
       "      <td>Central Lane MPO planning SFY25</td>\n",
       "      <td>191003.0</td>\n",
       "      <td>Central Lane MPO planning funds for Federal fi...</td>\n",
       "      <td>PL</td>\n",
       "      <td>--</td>\n",
       "      <td>--</td>\n",
       "      <td>NaN</td>\n",
       "      <td>NaN</td>\n",
       "      <td>EXEMPT / Other-Planning and Technical Studies ...</td>\n",
       "      <td>...</td>\n",
       "      <td>PL</td>\n",
       "      <td>Pending</td>\n",
       "      <td>565509.87</td>\n",
       "      <td>PL Y450</td>\n",
       "      <td>64725.13</td>\n",
       "      <td>ODOT</td>\n",
       "      <td>630235.00</td>\n",
       "      <td>NaN</td>\n",
       "      <td>NaN</td>\n",
       "      <td>630235.00</td>\n",
       "    </tr>\n",
       "    <tr>\n",
       "      <th>1</th>\n",
       "      <td>Central Lane MPO</td>\n",
       "      <td>NaN</td>\n",
       "      <td>NaN</td>\n",
       "      <td>NaN</td>\n",
       "      <td>NaN</td>\n",
       "      <td>NaN</td>\n",
       "      <td>NaN</td>\n",
       "      <td>NaN</td>\n",
       "      <td>NaN</td>\n",
       "      <td>NaN</td>\n",
       "      <td>...</td>\n",
       "      <td>PL</td>\n",
       "      <td>Pending</td>\n",
       "      <td>169812.00</td>\n",
       "      <td>5303 21MP</td>\n",
       "      <td>19435.75</td>\n",
       "      <td>LTD</td>\n",
       "      <td>189247.75</td>\n",
       "      <td>NaN</td>\n",
       "      <td>NaN</td>\n",
       "      <td>189247.75</td>\n",
       "    </tr>\n",
       "    <tr>\n",
       "      <th>2</th>\n",
       "      <td>Central Lane MPO</td>\n",
       "      <td>Central Lane MPO planning SFY26</td>\n",
       "      <td>230501.0</td>\n",
       "      <td>Planning funds for projects identified in stat...</td>\n",
       "      <td>PL</td>\n",
       "      <td>--</td>\n",
       "      <td>--</td>\n",
       "      <td>NaN</td>\n",
       "      <td>NaN</td>\n",
       "      <td>EXEMPT / Other-Planning and Technical Studies</td>\n",
       "      <td>...</td>\n",
       "      <td>PL</td>\n",
       "      <td>Draft</td>\n",
       "      <td>747349.97</td>\n",
       "      <td>PL Y450</td>\n",
       "      <td>85537.55</td>\n",
       "      <td>ODOT</td>\n",
       "      <td>832887.52</td>\n",
       "      <td>NaN</td>\n",
       "      <td>NaN</td>\n",
       "      <td>832887.52</td>\n",
       "    </tr>\n",
       "  </tbody>\n",
       "</table>\n",
       "<p>3 rows × 22 columns</p>\n",
       "</div>"
      ],
      "text/plain": [
       "                Geo                     Project Name  MTIP ID #  \\\n",
       "0  Central Lane MPO  Central Lane MPO planning SFY25   191003.0   \n",
       "1  Central Lane MPO                              NaN        NaN   \n",
       "2  Central Lane MPO  Central Lane MPO planning SFY26   230501.0   \n",
       "\n",
       "                                 Project Description Work Type Perf. Meas.  \\\n",
       "0  Central Lane MPO planning funds for Federal fi...        PL          --   \n",
       "1                                                NaN       NaN         NaN   \n",
       "2  Planning funds for projects identified in stat...        PL          --   \n",
       "\n",
       "  RTP Project Number / Ref.  In AQ CATS?  In\\nAQMA?  \\\n",
       "0                        --          NaN        NaN   \n",
       "1                       NaN          NaN        NaN   \n",
       "2                        --          NaN        NaN   \n",
       "\n",
       "                                  Air Quality Status  ...  Phase  \\\n",
       "0  EXEMPT / Other-Planning and Technical Studies ...  ...     PL   \n",
       "1                                                NaN  ...     PL   \n",
       "2      EXEMPT / Other-Planning and Technical Studies  ...     PL   \n",
       "\n",
       "   Phase Status Federal Funding  Federal Funding Source  Federal Req. Match  \\\n",
       "0       Pending        565509.87                PL Y450            64725.13   \n",
       "1       Pending        169812.00              5303 21MP            19435.75   \n",
       "2         Draft        747349.97                PL Y450            85537.55   \n",
       "\n",
       "  Federal Req. Match Source  Total Fed+ Req Match Other Funding  \\\n",
       "0                      ODOT             630235.00           NaN   \n",
       "1                       LTD             189247.75           NaN   \n",
       "2                      ODOT             832887.52           NaN   \n",
       "\n",
       "   Other Funding Source  Total All Sources  \n",
       "0                   NaN          630235.00  \n",
       "1                   NaN          189247.75  \n",
       "2                   NaN          832887.52  \n",
       "\n",
       "[3 rows x 22 columns]"
      ]
     },
     "execution_count": 18,
     "metadata": {},
     "output_type": "execute_result"
    }
   ],
   "source": [
    "data.head(3)"
   ]
  },
  {
   "cell_type": "code",
   "execution_count": 19,
   "id": "e81654ad",
   "metadata": {},
   "outputs": [
    {
     "data": {
      "text/plain": [
       "Index(['Geo', 'Project Name', 'MTIP ID #', 'Project Description', 'Work Type',\n",
       "       'Perf. Meas.', 'RTP Project Number / Ref.', 'In AQ CATS?', 'In\\nAQMA?',\n",
       "       'Air Quality Status', 'STIP Key', 'FFY', 'Phase', 'Phase Status',\n",
       "       'Federal Funding ', 'Federal Funding Source', 'Federal Req. Match',\n",
       "       'Federal Req. Match Source', 'Total Fed+ Req Match', 'Other Funding',\n",
       "       'Other Funding Source', 'Total All Sources'],\n",
       "      dtype='object')"
      ]
     },
     "execution_count": 19,
     "metadata": {},
     "output_type": "execute_result"
    }
   ],
   "source": [
    "data.columns"
   ]
  },
  {
   "cell_type": "code",
   "execution_count": 20,
   "id": "892e7a8f",
   "metadata": {},
   "outputs": [
    {
     "data": {
      "text/plain": [
       "(180, 22)"
      ]
     },
     "execution_count": 20,
     "metadata": {},
     "output_type": "execute_result"
    }
   ],
   "source": [
    "data.shape"
   ]
  },
  {
   "cell_type": "code",
   "execution_count": 22,
   "id": "d016b4a7",
   "metadata": {},
   "outputs": [
    {
     "data": {
      "text/plain": [
       "66"
      ]
     },
     "execution_count": 22,
     "metadata": {},
     "output_type": "execute_result"
    }
   ],
   "source": [
    "len(data['MTIP ID #'].unique())"
   ]
  },
  {
   "cell_type": "code",
   "execution_count": 23,
   "id": "a37389df",
   "metadata": {},
   "outputs": [
    {
     "data": {
      "text/plain": [
       "68"
      ]
     },
     "execution_count": 23,
     "metadata": {},
     "output_type": "execute_result"
    }
   ],
   "source": [
    "len(data['STIP Key'].unique())"
   ]
  },
  {
   "cell_type": "code",
   "execution_count": 30,
   "id": "2ae2ceb7",
   "metadata": {},
   "outputs": [],
   "source": [
    "lines = gpd.read_file(path+'\\\\TPT_for_lcog.gdb', layer='all_lines')"
   ]
  },
  {
   "cell_type": "code",
   "execution_count": 31,
   "id": "0decc56a",
   "metadata": {},
   "outputs": [
    {
     "data": {
      "text/plain": [
       "Index(['FME_PROJ_KEY_NO', 'FME_MAPPED', 'FME_SCHED_YR', 'FME_SCHED_DESC',\n",
       "       'FME_ROUTE', 'FME_ADMINISTRATOR', 'FME_PROJ_TYPE', 'DaysLate',\n",
       "       'Late_StatusExplanation', 'OverBudget_StatusExplanation', 'FME_PROJ_NM',\n",
       "       'FME_PROJ_DESC', 'STIP_ESTIMATED_PROJECT_COST', 'STIP_MNTR_CD',\n",
       "       'FME_REGION', 'STIP_LOC_ID', 'STIP_BEG_MP_NO', 'STIP_END_MP_NO',\n",
       "       'STIP_PROJ_BEG_LRS', 'STIP_LOC_BEG_LAT', 'STIP_LOC_END_LAT',\n",
       "       'STIP_LOC_BEG_LONGTD', 'STIP_LOC_END_LONGTD', 'ESTIMATED_COMPLETE_DT',\n",
       "       'STIP_ADMINISTRATOR_ID', 'FME_ACT', 'FME_MPO', 'Late', 'OverBudget',\n",
       "       'OverBudget_Amt', 'FME_CONTACT1_NAME', 'FME_CONTACT1_TITLE',\n",
       "       'FME_CONTACT1_PHONE', 'FME_CONTACT1_EMAIL', 'FME_CONTACT2_NAME',\n",
       "       'FME_CONTACT2_TITLE', 'FME_CONTACT2_PHONE', 'FME_CONTACT2_EMAIL',\n",
       "       'FME_PROJ_URL', 'FME_PHASE', 'FME_PROJ_COST_AMT', 'FME_COMPLETE_DT',\n",
       "       'FME_US_CNGR_DIST', 'FME_STATE_REP_DIST', 'FME_STATE_SEN_DIST',\n",
       "       'FME_CITY', 'FME_COUNTY', 'STIP_BID_LET_DT', 'GIS_PRC_DT',\n",
       "       'SHAPE_Length', 'geometry'],\n",
       "      dtype='object')"
      ]
     },
     "execution_count": 31,
     "metadata": {},
     "output_type": "execute_result"
    }
   ],
   "source": [
    "lines.columns"
   ]
  },
  {
   "cell_type": "code",
   "execution_count": 32,
   "id": "2c2dda8b",
   "metadata": {},
   "outputs": [],
   "source": [
    "points = gpd.read_file(path+'\\\\TPT_for_lcog.gdb', layer='all_points')"
   ]
  },
  {
   "cell_type": "code",
   "execution_count": 33,
   "id": "e04ad5db",
   "metadata": {},
   "outputs": [
    {
     "data": {
      "text/plain": [
       "Index(['FME_PROJ_KEY_NO', 'FME_MAPPED', 'FME_SCHED_YR', 'FME_SCHED_DESC',\n",
       "       'FME_ROUTE', 'FME_ADMINISTRATOR', 'FME_PROJ_TYPE', 'DaysLate',\n",
       "       'Late_StatusExplanation', 'OverBudget_StatusExplanation', 'FME_PROJ_NM',\n",
       "       'FME_PROJ_DESC', 'STIP_ESTIMATED_PROJECT_COST', 'STIP_MNTR_CD',\n",
       "       'FME_REGION', 'STIP_LOC_ID', 'STIP_BEG_MP_NO', 'STIP_END_MP_NO',\n",
       "       'STIP_PROJ_BEG_LRS', 'STIP_LOC_BEG_LAT', 'STIP_LOC_END_LAT',\n",
       "       'STIP_LOC_BEG_LONGTD', 'STIP_LOC_END_LONGTD', 'ESTIMATED_COMPLETE_DT',\n",
       "       'STIP_ADMINISTRATOR_ID', 'FME_ACT', 'FME_MPO', 'Late', 'OverBudget',\n",
       "       'OverBudget_Amt', 'FME_CONTACT1_NAME', 'FME_CONTACT1_TITLE',\n",
       "       'FME_CONTACT1_PHONE', 'FME_CONTACT1_EMAIL', 'FME_CONTACT2_NAME',\n",
       "       'FME_CONTACT2_TITLE', 'FME_CONTACT2_PHONE', 'FME_CONTACT2_EMAIL',\n",
       "       'FME_PROJ_URL', 'FME_PHASE', 'FME_PROJ_COST_AMT', 'FME_COMPLETE_DT',\n",
       "       'FME_US_CNGR_DIST', 'FME_STATE_REP_DIST', 'FME_STATE_SEN_DIST',\n",
       "       'FME_CITY', 'FME_COUNTY', 'STIP_BID_LET_DT', 'GIS_PRC_DT', 'geometry'],\n",
       "      dtype='object')"
      ]
     },
     "execution_count": 33,
     "metadata": {},
     "output_type": "execute_result"
    }
   ],
   "source": [
    "points.columns"
   ]
  },
  {
   "cell_type": "code",
   "execution_count": 40,
   "id": "91176ecd",
   "metadata": {},
   "outputs": [
    {
     "data": {
      "text/plain": [
       "array([191003., 230501., 230502., 230503., 230504., 200501., 230505.,\n",
       "       200502., 200503., 200703., 221002., 221001., 200711., 180502.,\n",
       "       230506., 230507., 221013., 221012., 221007., 221006., 220401.,\n",
       "       210701., 200715., 200723., 200716., 200717., 200718., 190902.,\n",
       "       210303., 180906., 180901., 230508., 221014., 221011., 221010.,\n",
       "       221009., 200707., 180902., 230509., 230510., 230511., 230512.,\n",
       "       230513., 230520., 230521., 230514., 230522., 230523., 230515.,\n",
       "       230516., 230517., 230518., 230519., 221008., 190903., 200506.,\n",
       "       200514., 200505., 200506., 200507., 230520., 190901., 200803.,\n",
       "       230521., 221005., 200702., 200708., 180903.])"
      ]
     },
     "execution_count": 40,
     "metadata": {},
     "output_type": "execute_result"
    }
   ],
   "source": [
    "data['MTIP ID #'].dropna().values"
   ]
  },
  {
   "cell_type": "code",
   "execution_count": 53,
   "id": "30b1e3b1",
   "metadata": {},
   "outputs": [],
   "source": [
    "stip_keys = list(data['STIP Key'].dropna().unique())"
   ]
  },
  {
   "cell_type": "code",
   "execution_count": 69,
   "id": "5884736a",
   "metadata": {},
   "outputs": [],
   "source": [
    "pkeys = list(map(int, points['FME_PROJ_KEY_NO'].values))"
   ]
  },
  {
   "cell_type": "code",
   "execution_count": 66,
   "id": "df78965b",
   "metadata": {},
   "outputs": [
    {
     "data": {
      "text/plain": [
       "str"
      ]
     },
     "execution_count": 66,
     "metadata": {},
     "output_type": "execute_result"
    }
   ],
   "source": [
    "type(pkeys[0])"
   ]
  },
  {
   "cell_type": "code",
   "execution_count": 67,
   "id": "aed6da84",
   "metadata": {},
   "outputs": [
    {
     "data": {
      "text/plain": [
       "numpy.int64"
      ]
     },
     "execution_count": 67,
     "metadata": {},
     "output_type": "execute_result"
    }
   ],
   "source": [
    "type(stip_keys[0])"
   ]
  },
  {
   "cell_type": "code",
   "execution_count": 70,
   "id": "44d38f21",
   "metadata": {},
   "outputs": [],
   "source": [
    "lkeys = list(map(int, lines['FME_PROJ_KEY_NO'].values))"
   ]
  },
  {
   "cell_type": "code",
   "execution_count": 58,
   "id": "0a9a9971",
   "metadata": {},
   "outputs": [],
   "source": [
    "loc_keys_p = list(points['STIP_LOC_ID'].values)"
   ]
  },
  {
   "cell_type": "code",
   "execution_count": 60,
   "id": "284b7519",
   "metadata": {},
   "outputs": [],
   "source": [
    "loc_keys_l = list(lines['STIP_LOC_ID'].values)"
   ]
  },
  {
   "cell_type": "code",
   "execution_count": 75,
   "id": "494cd2d5",
   "metadata": {},
   "outputs": [],
   "source": [
    "lid = [key for key in stip_keys if key in lkeys]"
   ]
  },
  {
   "cell_type": "code",
   "execution_count": 74,
   "id": "1bfd6125",
   "metadata": {},
   "outputs": [],
   "source": [
    "pid = [key for key in stip_keys if key in pkeys]"
   ]
  },
  {
   "cell_type": "code",
   "execution_count": 80,
   "id": "ed0b4892",
   "metadata": {},
   "outputs": [
    {
     "data": {
      "text/plain": [
       "18"
      ]
     },
     "execution_count": 80,
     "metadata": {},
     "output_type": "execute_result"
    }
   ],
   "source": [
    "len(pid)"
   ]
  },
  {
   "cell_type": "code",
   "execution_count": 81,
   "id": "6a9e3696",
   "metadata": {},
   "outputs": [
    {
     "name": "stdout",
     "output_type": "stream",
     "text": [
      "['21381', '22348']\n"
     ]
    }
   ],
   "source": [
    "print(list(map(str, lid)))"
   ]
  },
  {
   "cell_type": "code",
   "execution_count": 79,
   "id": "6081cb4e",
   "metadata": {},
   "outputs": [
    {
     "name": "stdout",
     "output_type": "stream",
     "text": [
      "['23058', '22340', '21327', '22596', '22460', '21567', '22344', '22345', '21449', '22346', '22405', '21383', '22348', '21385', '21564', '22351', '22352', '21393']\n"
     ]
    }
   ],
   "source": [
    "print(list(map(str, pid)))"
   ]
  },
  {
   "cell_type": "code",
   "execution_count": 83,
   "id": "c536130d",
   "metadata": {},
   "outputs": [
    {
     "data": {
      "text/plain": [
       "[22460]"
      ]
     },
     "execution_count": 83,
     "metadata": {},
     "output_type": "execute_result"
    }
   ],
   "source": [
    "[key for key in [21561, 20294, 22460, 22422, 20294] if key in lid + pid]"
   ]
  },
  {
   "cell_type": "code",
   "execution_count": 84,
   "id": "5f18c8c6",
   "metadata": {},
   "outputs": [],
   "source": [
    "selected_points = points[points.FME_PROJ_KEY_NO.isin(list(map(str, pid)))][['FME_PROJ_KEY_NO', 'STIP_LOC_ID', 'geometry']]"
   ]
  },
  {
   "cell_type": "code",
   "execution_count": 97,
   "id": "ebf136c8",
   "metadata": {},
   "outputs": [],
   "source": [
    "selected_points.rename(columns={'FME_PROJ_KEY_NO':'STIP_Key', 'STIP_LOC_ID':'LOC_ID'}, inplace=True)"
   ]
  },
  {
   "cell_type": "code",
   "execution_count": 93,
   "id": "1f6fb38b",
   "metadata": {},
   "outputs": [],
   "source": [
    "selected_lines = lines[lines.FME_PROJ_KEY_NO.isin(list(map(str, lid)))][['FME_PROJ_KEY_NO', 'STIP_LOC_ID','geometry']]"
   ]
  },
  {
   "cell_type": "code",
   "execution_count": 95,
   "id": "9506c316",
   "metadata": {},
   "outputs": [],
   "source": [
    "selected_lines.rename(columns={'FME_PROJ_KEY_NO':'STIP_Key', 'STIP_LOC_ID':'LOC_ID'}, inplace=True)"
   ]
  },
  {
   "cell_type": "code",
   "execution_count": 96,
   "id": "cb14d9cc",
   "metadata": {},
   "outputs": [
    {
     "name": "stderr",
     "output_type": "stream",
     "text": [
      "<ipython-input-96-25fc4b3df4cf>:1: UserWarning: Column names longer than 10 characters will be truncated when saved to ESRI Shapefile.\n",
      "  selected_points.to_file(os.path.join(path, 'ODOT_points.shp'))\n"
     ]
    }
   ],
   "source": [
    "selected_points.to_file(os.path.join(path, 'ODOT_points.shp'))"
   ]
  }
 ],
 "metadata": {
  "kernelspec": {
   "display_name": "Python 3",
   "language": "python",
   "name": "python3"
  },
  "language_info": {
   "codemirror_mode": {
    "name": "ipython",
    "version": 3
   },
   "file_extension": ".py",
   "mimetype": "text/x-python",
   "name": "python",
   "nbconvert_exporter": "python",
   "pygments_lexer": "ipython3",
   "version": "3.8.8"
  }
 },
 "nbformat": 4,
 "nbformat_minor": 5
}
