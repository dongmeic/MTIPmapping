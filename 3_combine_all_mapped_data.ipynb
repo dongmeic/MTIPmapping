{
 "cells": [
  {
   "cell_type": "code",
   "execution_count": 1,
   "id": "83b2db5c",
   "metadata": {},
   "outputs": [],
   "source": [
    "import geopandas as gpd\n",
    "import pandas as pd\n",
    "import os\n",
    "import numpy as np"
   ]
  },
  {
   "cell_type": "code",
   "execution_count": 2,
   "id": "c4491a55",
   "metadata": {},
   "outputs": [],
   "source": [
    "path = r'T:\\MPO\\TIP\\TIP FY24-27\\Maps\\Data'"
   ]
  },
  {
   "cell_type": "code",
   "execution_count": 3,
   "id": "b3cbd401",
   "metadata": {},
   "outputs": [],
   "source": [
    "mapped = pd.read_csv(os.path.join(path, 'mapped_proj.csv'))"
   ]
  },
  {
   "cell_type": "code",
   "execution_count": 4,
   "id": "7c24cf3e",
   "metadata": {},
   "outputs": [],
   "source": [
    "unmapped = pd.read_csv(os.path.join(path, 'unmapped_proj.csv'))"
   ]
  },
  {
   "cell_type": "code",
   "execution_count": 5,
   "id": "38f9f5be",
   "metadata": {},
   "outputs": [
    {
     "data": {
      "text/plain": [
       "(84, 27)"
      ]
     },
     "execution_count": 5,
     "metadata": {},
     "output_type": "execute_result"
    }
   ],
   "source": [
    "mapped.shape"
   ]
  },
  {
   "cell_type": "code",
   "execution_count": 6,
   "id": "a76fe913",
   "metadata": {},
   "outputs": [
    {
     "data": {
      "text/plain": [
       "Index(['Geo', 'ProjName', 'MTIP_ID', 'ProjDesc', 'WorkType', 'PerfMeas',\n",
       "       'RTPno', 'In_AQ_CATS?', 'InAQMA?', 'AQ_Status', 'STIP_Key', 'FFY',\n",
       "       'Phase', 'PhaseStatus', 'FederalFunding', 'FederalFundingSource',\n",
       "       'FederalReqMatch', 'FederalReqMatchSource', 'TotalFed+ReqMatch',\n",
       "       'OtherFunding', 'OtherFundingSource', 'TotalAllSources', 'Link',\n",
       "       'Notes', 'LocDesc', 'Path', 'DataNotes'],\n",
       "      dtype='object')"
      ]
     },
     "execution_count": 6,
     "metadata": {},
     "output_type": "execute_result"
    }
   ],
   "source": [
    "mapped.columns"
   ]
  },
  {
   "cell_type": "code",
   "execution_count": 22,
   "id": "a4c02893",
   "metadata": {},
   "outputs": [
    {
     "data": {
      "text/plain": [
       "Index(['Geo', 'ProjName', 'MTIP_ID', 'ProjDesc', 'WorkType', 'PerfMeas',\n",
       "       'RTPno', 'In_AQ_CATS?', 'InAQMA?', 'AQ_Status', 'STIP_Key', 'FFY',\n",
       "       'Phase', 'PhaseStatus', 'FederalFunding', 'FederalFundingSource',\n",
       "       'FederalReqMatch', 'FederalReqMatchSource', 'TotalFed+ReqMatch',\n",
       "       'OtherFunding', 'OtherFundingSource', 'TotalAllSources', 'Mapped?',\n",
       "       'Notes', 'LocDesc', 'Path'],\n",
       "      dtype='object')"
      ]
     },
     "execution_count": 22,
     "metadata": {},
     "output_type": "execute_result"
    }
   ],
   "source": [
    "unmapped.columns"
   ]
  },
  {
   "cell_type": "code",
   "execution_count": 7,
   "id": "325c7973",
   "metadata": {},
   "outputs": [],
   "source": [
    "FY24_27Lines = gpd.read_file(os.path.join(path, 'Data.gdb'), layer='FY24_27Lines')"
   ]
  },
  {
   "cell_type": "code",
   "execution_count": 56,
   "id": "69646818",
   "metadata": {},
   "outputs": [
    {
     "data": {
      "text/html": [
       "<div>\n",
       "<style scoped>\n",
       "    .dataframe tbody tr th:only-of-type {\n",
       "        vertical-align: middle;\n",
       "    }\n",
       "\n",
       "    .dataframe tbody tr th {\n",
       "        vertical-align: top;\n",
       "    }\n",
       "\n",
       "    .dataframe thead th {\n",
       "        text-align: right;\n",
       "    }\n",
       "</style>\n",
       "<table border=\"1\" class=\"dataframe\">\n",
       "  <thead>\n",
       "    <tr style=\"text-align: right;\">\n",
       "      <th></th>\n",
       "      <th>Shape_Length</th>\n",
       "      <th>STIP_Key</th>\n",
       "      <th>geometry</th>\n",
       "    </tr>\n",
       "  </thead>\n",
       "  <tbody>\n",
       "    <tr>\n",
       "      <th>0</th>\n",
       "      <td>3336.895275</td>\n",
       "      <td>23058</td>\n",
       "      <td>MULTILINESTRING ((641420.635 881282.660, 64145...</td>\n",
       "    </tr>\n",
       "    <tr>\n",
       "      <th>1</th>\n",
       "      <td>2698.052879</td>\n",
       "      <td>21327</td>\n",
       "      <td>MULTILINESTRING ((641422.076 881905.421, 64144...</td>\n",
       "    </tr>\n",
       "    <tr>\n",
       "      <th>2</th>\n",
       "      <td>714.467061</td>\n",
       "      <td>22460</td>\n",
       "      <td>MULTILINESTRING ((620632.356 848696.889, 62066...</td>\n",
       "    </tr>\n",
       "  </tbody>\n",
       "</table>\n",
       "</div>"
      ],
      "text/plain": [
       "   Shape_Length  STIP_Key                                           geometry\n",
       "0   3336.895275     23058  MULTILINESTRING ((641420.635 881282.660, 64145...\n",
       "1   2698.052879     21327  MULTILINESTRING ((641422.076 881905.421, 64144...\n",
       "2    714.467061     22460  MULTILINESTRING ((620632.356 848696.889, 62066..."
      ]
     },
     "execution_count": 56,
     "metadata": {},
     "output_type": "execute_result"
    }
   ],
   "source": [
    "FY24_27Lines.head(3)"
   ]
  },
  {
   "cell_type": "code",
   "execution_count": 57,
   "id": "bf058d07",
   "metadata": {},
   "outputs": [
    {
     "data": {
      "text/html": [
       "<div>\n",
       "<style scoped>\n",
       "    .dataframe tbody tr th:only-of-type {\n",
       "        vertical-align: middle;\n",
       "    }\n",
       "\n",
       "    .dataframe tbody tr th {\n",
       "        vertical-align: top;\n",
       "    }\n",
       "\n",
       "    .dataframe thead th {\n",
       "        text-align: right;\n",
       "    }\n",
       "</style>\n",
       "<table border=\"1\" class=\"dataframe\">\n",
       "  <thead>\n",
       "    <tr style=\"text-align: right;\">\n",
       "      <th></th>\n",
       "      <th>STIP_Key</th>\n",
       "      <th>LOC_ID</th>\n",
       "      <th>geometry</th>\n",
       "    </tr>\n",
       "  </thead>\n",
       "  <tbody>\n",
       "    <tr>\n",
       "      <th>0</th>\n",
       "      <td>21381</td>\n",
       "      <td>32361</td>\n",
       "      <td>LINESTRING (616456.566 864255.021, 616345.490 ...</td>\n",
       "    </tr>\n",
       "    <tr>\n",
       "      <th>1</th>\n",
       "      <td>21381</td>\n",
       "      <td>32362</td>\n",
       "      <td>LINESTRING (615629.642 864270.495, 615593.962 ...</td>\n",
       "    </tr>\n",
       "    <tr>\n",
       "      <th>2</th>\n",
       "      <td>22348</td>\n",
       "      <td>37659</td>\n",
       "      <td>LINESTRING (647634.325 855867.035, 647633.650 ...</td>\n",
       "    </tr>\n",
       "  </tbody>\n",
       "</table>\n",
       "</div>"
      ],
      "text/plain": [
       "  STIP_Key  LOC_ID                                           geometry\n",
       "0    21381   32361  LINESTRING (616456.566 864255.021, 616345.490 ...\n",
       "1    21381   32362  LINESTRING (615629.642 864270.495, 615593.962 ...\n",
       "2    22348   37659  LINESTRING (647634.325 855867.035, 647633.650 ..."
      ]
     },
     "execution_count": 57,
     "metadata": {},
     "output_type": "execute_result"
    }
   ],
   "source": [
    "ODOTlines.head(3)"
   ]
  },
  {
   "cell_type": "code",
   "execution_count": 8,
   "id": "9c9502ad",
   "metadata": {},
   "outputs": [],
   "source": [
    "FY24_27Points = gpd.read_file(os.path.join(path, 'Data.gdb'), layer='FY24_27Points')"
   ]
  },
  {
   "cell_type": "code",
   "execution_count": 9,
   "id": "a034f6ac",
   "metadata": {},
   "outputs": [],
   "source": [
    "lines = gpd.read_file(path+'\\\\TPT_for_lcog.gdb', layer='all_lines')"
   ]
  },
  {
   "cell_type": "code",
   "execution_count": 10,
   "id": "40b062f3",
   "metadata": {},
   "outputs": [
    {
     "data": {
      "text/plain": [
       "Index(['FME_PROJ_KEY_NO', 'FME_MAPPED', 'FME_SCHED_YR', 'FME_SCHED_DESC',\n",
       "       'FME_ROUTE', 'FME_ADMINISTRATOR', 'FME_PROJ_TYPE', 'DaysLate',\n",
       "       'Late_StatusExplanation', 'OverBudget_StatusExplanation', 'FME_PROJ_NM',\n",
       "       'FME_PROJ_DESC', 'STIP_ESTIMATED_PROJECT_COST', 'STIP_MNTR_CD',\n",
       "       'FME_REGION', 'STIP_LOC_ID', 'STIP_BEG_MP_NO', 'STIP_END_MP_NO',\n",
       "       'STIP_PROJ_BEG_LRS', 'STIP_LOC_BEG_LAT', 'STIP_LOC_END_LAT',\n",
       "       'STIP_LOC_BEG_LONGTD', 'STIP_LOC_END_LONGTD', 'ESTIMATED_COMPLETE_DT',\n",
       "       'STIP_ADMINISTRATOR_ID', 'FME_ACT', 'FME_MPO', 'Late', 'OverBudget',\n",
       "       'OverBudget_Amt', 'FME_CONTACT1_NAME', 'FME_CONTACT1_TITLE',\n",
       "       'FME_CONTACT1_PHONE', 'FME_CONTACT1_EMAIL', 'FME_CONTACT2_NAME',\n",
       "       'FME_CONTACT2_TITLE', 'FME_CONTACT2_PHONE', 'FME_CONTACT2_EMAIL',\n",
       "       'FME_PROJ_URL', 'FME_PHASE', 'FME_PROJ_COST_AMT', 'FME_COMPLETE_DT',\n",
       "       'FME_US_CNGR_DIST', 'FME_STATE_REP_DIST', 'FME_STATE_SEN_DIST',\n",
       "       'FME_CITY', 'FME_COUNTY', 'STIP_BID_LET_DT', 'GIS_PRC_DT',\n",
       "       'SHAPE_Length', 'geometry'],\n",
       "      dtype='object')"
      ]
     },
     "execution_count": 10,
     "metadata": {},
     "output_type": "execute_result"
    }
   ],
   "source": [
    "lines.columns"
   ]
  },
  {
   "cell_type": "code",
   "execution_count": 11,
   "id": "a533c550",
   "metadata": {},
   "outputs": [],
   "source": [
    "selected_line = lines[lines.FME_PROJ_KEY_NO == '19917']"
   ]
  },
  {
   "cell_type": "code",
   "execution_count": 12,
   "id": "4e9411e2",
   "metadata": {},
   "outputs": [],
   "source": [
    "selected_line = selected_line[['FME_PROJ_KEY_NO', 'STIP_LOC_ID', 'geometry']]"
   ]
  },
  {
   "cell_type": "code",
   "execution_count": 13,
   "id": "43b1796a",
   "metadata": {},
   "outputs": [],
   "source": [
    "selected_line.rename(columns={'FME_PROJ_KEY_NO':'STIP_Key', 'STIP_LOC_ID':'LOC_ID'}, inplace=True)"
   ]
  },
  {
   "cell_type": "code",
   "execution_count": 14,
   "id": "f2ae07aa",
   "metadata": {},
   "outputs": [],
   "source": [
    "selected_line['STIP_Key'] = '22696'"
   ]
  },
  {
   "cell_type": "code",
   "execution_count": 15,
   "id": "bfe52b48",
   "metadata": {},
   "outputs": [
    {
     "data": {
      "text/html": [
       "<div>\n",
       "<style scoped>\n",
       "    .dataframe tbody tr th:only-of-type {\n",
       "        vertical-align: middle;\n",
       "    }\n",
       "\n",
       "    .dataframe tbody tr th {\n",
       "        vertical-align: top;\n",
       "    }\n",
       "\n",
       "    .dataframe thead th {\n",
       "        text-align: right;\n",
       "    }\n",
       "</style>\n",
       "<table border=\"1\" class=\"dataframe\">\n",
       "  <thead>\n",
       "    <tr style=\"text-align: right;\">\n",
       "      <th></th>\n",
       "      <th>STIP_Key</th>\n",
       "      <th>LOC_ID</th>\n",
       "      <th>geometry</th>\n",
       "    </tr>\n",
       "  </thead>\n",
       "  <tbody>\n",
       "    <tr>\n",
       "      <th>1887</th>\n",
       "      <td>22696</td>\n",
       "      <td>26892</td>\n",
       "      <td>MULTILINESTRING ((660252.732 845199.651, 66084...</td>\n",
       "    </tr>\n",
       "  </tbody>\n",
       "</table>\n",
       "</div>"
      ],
      "text/plain": [
       "     STIP_Key  LOC_ID                                           geometry\n",
       "1887    22696   26892  MULTILINESTRING ((660252.732 845199.651, 66084..."
      ]
     },
     "execution_count": 15,
     "metadata": {},
     "output_type": "execute_result"
    }
   ],
   "source": [
    "selected_line"
   ]
  },
  {
   "cell_type": "code",
   "execution_count": 16,
   "id": "7e78ea86",
   "metadata": {},
   "outputs": [],
   "source": [
    "ODOTlines = gpd.read_file(os.path.join(path, 'ODOT_lines.shp'))"
   ]
  },
  {
   "cell_type": "code",
   "execution_count": 17,
   "id": "fd6cd2ac",
   "metadata": {},
   "outputs": [],
   "source": [
    "ODOTlines = pd.concat([ODOTlines, selected_line], ignore_index=True)"
   ]
  },
  {
   "cell_type": "code",
   "execution_count": 18,
   "id": "790c6b83",
   "metadata": {},
   "outputs": [],
   "source": [
    "ODOTpoints = gpd.read_file(os.path.join(path, 'ODOT_points.shp'))"
   ]
  },
  {
   "cell_type": "code",
   "execution_count": 25,
   "id": "f4ba7356",
   "metadata": {
    "scrolled": true
   },
   "outputs": [],
   "source": [
    "mapped_keys = mapped[~mapped.Link.isnull()].STIP_Key.unique()"
   ]
  },
  {
   "cell_type": "code",
   "execution_count": 33,
   "id": "8f7ab3c7",
   "metadata": {},
   "outputs": [],
   "source": [
    "unmapped_keys = unmapped[~unmapped['Mapped?'].isnull()].STIP_Key.unique()"
   ]
  },
  {
   "cell_type": "code",
   "execution_count": 34,
   "id": "4843974b",
   "metadata": {},
   "outputs": [],
   "source": [
    "all_mapped_keys = np.concatenate((mapped_keys, unmapped_keys))"
   ]
  },
  {
   "cell_type": "code",
   "execution_count": 35,
   "id": "5d0b21e9",
   "metadata": {},
   "outputs": [],
   "source": [
    "LineKeys = FY24_27Lines.STIP_Key.unique()"
   ]
  },
  {
   "cell_type": "code",
   "execution_count": 36,
   "id": "b6df904d",
   "metadata": {},
   "outputs": [],
   "source": [
    "PointKeys = FY24_27Points.STIP_Key.unique()"
   ]
  },
  {
   "cell_type": "code",
   "execution_count": 37,
   "id": "2164dddb",
   "metadata": {},
   "outputs": [],
   "source": [
    "keys = np.concatenate((LineKeys, PointKeys))"
   ]
  },
  {
   "cell_type": "code",
   "execution_count": 41,
   "id": "80a2cc5a",
   "metadata": {},
   "outputs": [
    {
     "data": {
      "text/html": [
       "<div>\n",
       "<style scoped>\n",
       "    .dataframe tbody tr th:only-of-type {\n",
       "        vertical-align: middle;\n",
       "    }\n",
       "\n",
       "    .dataframe tbody tr th {\n",
       "        vertical-align: top;\n",
       "    }\n",
       "\n",
       "    .dataframe thead th {\n",
       "        text-align: right;\n",
       "    }\n",
       "</style>\n",
       "<table border=\"1\" class=\"dataframe\">\n",
       "  <thead>\n",
       "    <tr style=\"text-align: right;\">\n",
       "      <th></th>\n",
       "      <th>STIP_Key</th>\n",
       "      <th>LOC_ID</th>\n",
       "      <th>geometry</th>\n",
       "    </tr>\n",
       "  </thead>\n",
       "  <tbody>\n",
       "    <tr>\n",
       "      <th>0</th>\n",
       "      <td>21381</td>\n",
       "      <td>32361</td>\n",
       "      <td>LINESTRING (616456.566 864255.021, 616345.490 ...</td>\n",
       "    </tr>\n",
       "    <tr>\n",
       "      <th>1</th>\n",
       "      <td>21381</td>\n",
       "      <td>32362</td>\n",
       "      <td>LINESTRING (615629.642 864270.495, 615593.962 ...</td>\n",
       "    </tr>\n",
       "    <tr>\n",
       "      <th>2</th>\n",
       "      <td>22348</td>\n",
       "      <td>37659</td>\n",
       "      <td>LINESTRING (647634.325 855867.035, 647633.650 ...</td>\n",
       "    </tr>\n",
       "  </tbody>\n",
       "</table>\n",
       "</div>"
      ],
      "text/plain": [
       "  STIP_Key  LOC_ID                                           geometry\n",
       "0    21381   32361  LINESTRING (616456.566 864255.021, 616345.490 ...\n",
       "1    21381   32362  LINESTRING (615629.642 864270.495, 615593.962 ...\n",
       "2    22348   37659  LINESTRING (647634.325 855867.035, 647633.650 ..."
      ]
     },
     "execution_count": 41,
     "metadata": {},
     "output_type": "execute_result"
    }
   ],
   "source": [
    "ODOTlines.head(3)"
   ]
  },
  {
   "cell_type": "code",
   "execution_count": 45,
   "id": "576dbe1f",
   "metadata": {},
   "outputs": [],
   "source": [
    "ODOTkeys = np.concatenate((ODOTlines.STIP_Key.unique(), ODOTpoints.STIP_Key.unique()))"
   ]
  },
  {
   "cell_type": "code",
   "execution_count": 47,
   "id": "e99600b3",
   "metadata": {},
   "outputs": [
    {
     "data": {
      "text/plain": [
       "array([21381, 22348, 22696, 21564, 22596, 23058, 21327, 21383, 21385,\n",
       "       21393, 21449, 21567, 22340, 22344, 22345, 22346, 22348, 22351,\n",
       "       22352, 22405, 22460], dtype=int64)"
      ]
     },
     "execution_count": 47,
     "metadata": {},
     "output_type": "execute_result"
    }
   ],
   "source": [
    "ODOTkeys.astype(np.int64)"
   ]
  },
  {
   "cell_type": "code",
   "execution_count": 38,
   "id": "84d60369",
   "metadata": {},
   "outputs": [
    {
     "data": {
      "text/plain": [
       "[22723]"
      ]
     },
     "execution_count": 38,
     "metadata": {},
     "output_type": "execute_result"
    }
   ],
   "source": [
    "[key for key in keys if key not in all_mapped_keys]"
   ]
  },
  {
   "cell_type": "code",
   "execution_count": 54,
   "id": "35ead45e",
   "metadata": {},
   "outputs": [
    {
     "data": {
      "text/plain": [
       "True"
      ]
     },
     "execution_count": 54,
     "metadata": {},
     "output_type": "execute_result"
    }
   ],
   "source": [
    "# correct this on the table\n",
    "22723 in unmapped.STIP_Key.unique()"
   ]
  },
  {
   "cell_type": "code",
   "execution_count": 70,
   "id": "0e7024b3",
   "metadata": {},
   "outputs": [],
   "source": [
    "keys_to_add = list(map(str, [key for key in ODOTkeys.astype(np.int64) if key not in keys]))"
   ]
  },
  {
   "cell_type": "code",
   "execution_count": 71,
   "id": "4f19aba8",
   "metadata": {},
   "outputs": [],
   "source": [
    "MTIPlines = pd.concat([FY24_27Lines[['STIP_Key','geometry']], \n",
    "           ODOTlines[ODOTlines.STIP_Key.isin(keys_to_add)][['STIP_Key','geometry']]], \n",
    "          ignore_index=True)"
   ]
  },
  {
   "cell_type": "code",
   "execution_count": 72,
   "id": "eefebbe9",
   "metadata": {},
   "outputs": [],
   "source": [
    "MTIPpoints = pd.concat([FY24_27Points[['STIP_Key','geometry']], \n",
    "           ODOTpoints[ODOTpoints.STIP_Key.isin(keys_to_add)][['STIP_Key','geometry']]], \n",
    "          ignore_index=True)"
   ]
  },
  {
   "cell_type": "code",
   "execution_count": 73,
   "id": "000d9d88",
   "metadata": {},
   "outputs": [
    {
     "data": {
      "text/html": [
       "<div>\n",
       "<style scoped>\n",
       "    .dataframe tbody tr th:only-of-type {\n",
       "        vertical-align: middle;\n",
       "    }\n",
       "\n",
       "    .dataframe tbody tr th {\n",
       "        vertical-align: top;\n",
       "    }\n",
       "\n",
       "    .dataframe thead th {\n",
       "        text-align: right;\n",
       "    }\n",
       "</style>\n",
       "<table border=\"1\" class=\"dataframe\">\n",
       "  <thead>\n",
       "    <tr style=\"text-align: right;\">\n",
       "      <th></th>\n",
       "      <th>STIP_Key</th>\n",
       "      <th>geometry</th>\n",
       "    </tr>\n",
       "  </thead>\n",
       "  <tbody>\n",
       "    <tr>\n",
       "      <th>2</th>\n",
       "      <td>22348</td>\n",
       "      <td>LINESTRING (647634.325 855867.035, 647633.650 ...</td>\n",
       "    </tr>\n",
       "    <tr>\n",
       "      <th>3</th>\n",
       "      <td>22696</td>\n",
       "      <td>MULTILINESTRING ((660252.732 845199.651, 66084...</td>\n",
       "    </tr>\n",
       "  </tbody>\n",
       "</table>\n",
       "</div>"
      ],
      "text/plain": [
       "  STIP_Key                                           geometry\n",
       "2    22348  LINESTRING (647634.325 855867.035, 647633.650 ...\n",
       "3    22696  MULTILINESTRING ((660252.732 845199.651, 66084..."
      ]
     },
     "execution_count": 73,
     "metadata": {},
     "output_type": "execute_result"
    }
   ],
   "source": [
    "ODOTlines[ODOTlines.STIP_Key.isin(keys_to_add)][['STIP_Key','geometry']]"
   ]
  },
  {
   "cell_type": "code",
   "execution_count": 85,
   "id": "0911c96f",
   "metadata": {},
   "outputs": [],
   "source": [
    "MTIPlines[MTIPlines.STIP_Key != 23058].to_file(os.path.join(path, 'FY24_27_lines.shp'))"
   ]
  },
  {
   "cell_type": "code",
   "execution_count": 81,
   "id": "4aa2f37b",
   "metadata": {},
   "outputs": [
    {
     "data": {
      "text/plain": [
       "dtype('O')"
      ]
     },
     "execution_count": 81,
     "metadata": {},
     "output_type": "execute_result"
    }
   ],
   "source": [
    "MTIPlines.STIP_Key.dtype"
   ]
  },
  {
   "cell_type": "code",
   "execution_count": 80,
   "id": "b8defe2c",
   "metadata": {},
   "outputs": [],
   "source": [
    "MTIPpoints.to_file(os.path.join(path, 'FY24_27_points.shp'))"
   ]
  }
 ],
 "metadata": {
  "kernelspec": {
   "display_name": "Python 3 (ipykernel)",
   "language": "python",
   "name": "python3"
  },
  "language_info": {
   "codemirror_mode": {
    "name": "ipython",
    "version": 3
   },
   "file_extension": ".py",
   "mimetype": "text/x-python",
   "name": "python",
   "nbconvert_exporter": "python",
   "pygments_lexer": "ipython3",
   "version": "3.8.15"
  }
 },
 "nbformat": 4,
 "nbformat_minor": 5
}
