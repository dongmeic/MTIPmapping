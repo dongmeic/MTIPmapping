{
 "cells": [
  {
   "cell_type": "code",
   "execution_count": 1,
   "id": "775c3f19",
   "metadata": {},
   "outputs": [],
   "source": [
    "import pandas as pd\n",
    "import geopandas as gpd\n",
    "import numpy as np\n",
    "from geopandas import GeoDataFrame\n",
    "from shapely.geometry import Point\n",
    "from geopy.geocoders import ArcGIS\n",
    "import os"
   ]
  },
  {
   "cell_type": "code",
   "execution_count": 2,
   "id": "d81fb4f8",
   "metadata": {},
   "outputs": [],
   "source": [
    "path = r'T:\\MPO\\TIP\\TIP FY24-27\\Maps\\Data'"
   ]
  },
  {
   "cell_type": "code",
   "execution_count": 3,
   "id": "5de8cbf9",
   "metadata": {},
   "outputs": [],
   "source": [
    "df = pd.read_excel(os.path.join(path, 'AddCoordinates.xlsx'))"
   ]
  },
  {
   "cell_type": "code",
   "execution_count": 4,
   "id": "ca16d244",
   "metadata": {},
   "outputs": [
    {
     "data": {
      "text/html": [
       "<div>\n",
       "<style scoped>\n",
       "    .dataframe tbody tr th:only-of-type {\n",
       "        vertical-align: middle;\n",
       "    }\n",
       "\n",
       "    .dataframe tbody tr th {\n",
       "        vertical-align: top;\n",
       "    }\n",
       "\n",
       "    .dataframe thead th {\n",
       "        text-align: right;\n",
       "    }\n",
       "</style>\n",
       "<table border=\"1\" class=\"dataframe\">\n",
       "  <thead>\n",
       "    <tr style=\"text-align: right;\">\n",
       "      <th></th>\n",
       "      <th>Project Name</th>\n",
       "      <th>STIP Key</th>\n",
       "      <th>Longitude</th>\n",
       "      <th>Latitude</th>\n",
       "    </tr>\n",
       "  </thead>\n",
       "  <tbody>\n",
       "    <tr>\n",
       "      <th>0</th>\n",
       "      <td>Glenwood Transit Facilities Treatments, LTD (5...</td>\n",
       "      <td>23208</td>\n",
       "      <td>-123.041142</td>\n",
       "      <td>44.042793</td>\n",
       "    </tr>\n",
       "    <tr>\n",
       "      <th>1</th>\n",
       "      <td>LTD EmX Franklin &amp; Gateway Station Treatments ...</td>\n",
       "      <td>23220</td>\n",
       "      <td>-123.042728</td>\n",
       "      <td>44.073423</td>\n",
       "    </tr>\n",
       "    <tr>\n",
       "      <th>2</th>\n",
       "      <td>LTD RideSource Facility Expansion (5307)</td>\n",
       "      <td>23223</td>\n",
       "      <td>-123.123155</td>\n",
       "      <td>44.057281</td>\n",
       "    </tr>\n",
       "    <tr>\n",
       "      <th>3</th>\n",
       "      <td>LTD Glenwood Board Room Upgrades (5307)</td>\n",
       "      <td>23230</td>\n",
       "      <td>-123.041362</td>\n",
       "      <td>44.042346</td>\n",
       "    </tr>\n",
       "    <tr>\n",
       "      <th>4</th>\n",
       "      <td>Lane County Local Road Curve Treatments (2027)</td>\n",
       "      <td>22689</td>\n",
       "      <td>-123.210154</td>\n",
       "      <td>44.102908</td>\n",
       "    </tr>\n",
       "    <tr>\n",
       "      <th>5</th>\n",
       "      <td>Lane County Local Road Curve Treatments (2027)</td>\n",
       "      <td>22689</td>\n",
       "      <td>-123.215336</td>\n",
       "      <td>44.040951</td>\n",
       "    </tr>\n",
       "  </tbody>\n",
       "</table>\n",
       "</div>"
      ],
      "text/plain": [
       "                                        Project Name  STIP Key   Longitude  \\\n",
       "0  Glenwood Transit Facilities Treatments, LTD (5...     23208 -123.041142   \n",
       "1  LTD EmX Franklin & Gateway Station Treatments ...     23220 -123.042728   \n",
       "2           LTD RideSource Facility Expansion (5307)     23223 -123.123155   \n",
       "3            LTD Glenwood Board Room Upgrades (5307)     23230 -123.041362   \n",
       "4     Lane County Local Road Curve Treatments (2027)     22689 -123.210154   \n",
       "5     Lane County Local Road Curve Treatments (2027)     22689 -123.215336   \n",
       "\n",
       "    Latitude  \n",
       "0  44.042793  \n",
       "1  44.073423  \n",
       "2  44.057281  \n",
       "3  44.042346  \n",
       "4  44.102908  \n",
       "5  44.040951  "
      ]
     },
     "execution_count": 4,
     "metadata": {},
     "output_type": "execute_result"
    }
   ],
   "source": [
    "df"
   ]
  },
  {
   "cell_type": "code",
   "execution_count": 5,
   "id": "87019131",
   "metadata": {},
   "outputs": [],
   "source": [
    "df['ID'] = list(range(32, 32 + df.shape[0]))"
   ]
  },
  {
   "cell_type": "code",
   "execution_count": 6,
   "id": "b9728820",
   "metadata": {},
   "outputs": [],
   "source": [
    "geometry = [Point(xy) for xy in zip(df.Longitude, df.Latitude)]\n",
    "gdf = GeoDataFrame(df, crs=\"EPSG:4326\", geometry=geometry)"
   ]
  },
  {
   "cell_type": "code",
   "execution_count": 7,
   "id": "0ad2c9c3",
   "metadata": {},
   "outputs": [],
   "source": [
    "points = gpd.read_file(os.path.join(path, 'FY24_27_points.shp'))"
   ]
  },
  {
   "cell_type": "code",
   "execution_count": 8,
   "id": "f9aa5179",
   "metadata": {},
   "outputs": [],
   "source": [
    "gdf.rename(columns={'STIP Key':'STIP_Key'}, inplace=True)"
   ]
  },
  {
   "cell_type": "code",
   "execution_count": 11,
   "id": "8ed92235",
   "metadata": {},
   "outputs": [],
   "source": [
    "gdf = gdf.to_crs(epsg=2992)"
   ]
  },
  {
   "cell_type": "code",
   "execution_count": 14,
   "id": "4aaae58d",
   "metadata": {},
   "outputs": [],
   "source": [
    "points_added = points.append(gdf[points.columns], ignore_index=True)"
   ]
  },
  {
   "cell_type": "code",
   "execution_count": 31,
   "id": "617ebb32",
   "metadata": {},
   "outputs": [],
   "source": [
    "locs = [\"Pioneer Pkwy E & E St, Springfield, OR 97477\", \n",
    "        \"E St & Pioneer Pkwy W, Springfield, OR 97477\", \n",
    "        \"69th St & Thurston Rd, Springfield, OR 97478\"]"
   ]
  },
  {
   "cell_type": "code",
   "execution_count": 71,
   "id": "09dac627",
   "metadata": {},
   "outputs": [],
   "source": [
    "def getCoordinates(address):\n",
    "    lonlat = ArcGIS().geocode(address)\n",
    "    #latitude = lonlat[1][0]\n",
    "    #longitude = lonlat[1][1]\n",
    "    (latitude, longitude) = lonlat[1]\n",
    "    return [address, longitude, latitude] "
   ]
  },
  {
   "cell_type": "code",
   "execution_count": 75,
   "id": "11c528fa",
   "metadata": {},
   "outputs": [],
   "source": [
    "# Create the pandas DataFrame\n",
    "ndf = pd.DataFrame(dt, columns = ['Address', 'Longitude', 'Latitude'])"
   ]
  },
  {
   "cell_type": "code",
   "execution_count": 76,
   "id": "d3a00328",
   "metadata": {},
   "outputs": [],
   "source": [
    "ndf['STIP_Key'] = 22351\n",
    "ndf['ID'] = 16"
   ]
  },
  {
   "cell_type": "code",
   "execution_count": 78,
   "id": "de3027aa",
   "metadata": {},
   "outputs": [],
   "source": [
    "geometry = [Point(xy) for xy in zip(ndf.Longitude, ndf.Latitude)]\n",
    "ngdf = GeoDataFrame(ndf, crs=\"EPSG:4326\", geometry=geometry)"
   ]
  },
  {
   "cell_type": "code",
   "execution_count": 79,
   "id": "aac306b9",
   "metadata": {},
   "outputs": [],
   "source": [
    "ngdf = ngdf.to_crs(epsg=2992)"
   ]
  },
  {
   "cell_type": "code",
   "execution_count": 82,
   "id": "7e4b01a9",
   "metadata": {},
   "outputs": [],
   "source": [
    "npoints_added = points_added.append(ngdf[points.columns], ignore_index=True)"
   ]
  },
  {
   "cell_type": "code",
   "execution_count": 84,
   "id": "bfd5cb88",
   "metadata": {},
   "outputs": [],
   "source": [
    "data = pd.read_excel(os.path.join(path, 'MTIP24_27_List_Updated.xlsx'))"
   ]
  },
  {
   "cell_type": "code",
   "execution_count": 85,
   "id": "3a4af88d",
   "metadata": {},
   "outputs": [],
   "source": [
    "lines = gpd.read_file(os.path.join(path, 'FY24_27_lines.shp'))"
   ]
  },
  {
   "cell_type": "code",
   "execution_count": 96,
   "id": "4fcefcb5",
   "metadata": {},
   "outputs": [],
   "source": [
    "Ids = npoints_added[['STIP_Key', 'ID']].drop_duplicates().append(lines[['STIP_Key', 'ID']].drop_duplicates(), ignore_index=True)"
   ]
  },
  {
   "cell_type": "code",
   "execution_count": 97,
   "id": "6f1e1cf7",
   "metadata": {},
   "outputs": [],
   "source": [
    "Ids.rename(columns={'STIP_Key':'STIP Key'}, inplace=True)"
   ]
  },
  {
   "cell_type": "code",
   "execution_count": 98,
   "id": "30334fef",
   "metadata": {},
   "outputs": [],
   "source": [
    "Ids['STIP Key'] = Ids['STIP Key'].astype(np.int64)"
   ]
  },
  {
   "cell_type": "code",
   "execution_count": 89,
   "id": "f1c51f9b",
   "metadata": {},
   "outputs": [
    {
     "data": {
      "text/plain": [
       "(208, 27)"
      ]
     },
     "execution_count": 89,
     "metadata": {},
     "output_type": "execute_result"
    }
   ],
   "source": [
    "data.shape"
   ]
  },
  {
   "cell_type": "code",
   "execution_count": 100,
   "id": "74ab1c2a",
   "metadata": {},
   "outputs": [],
   "source": [
    "ndata = data.merge(Ids, how='outer', on='STIP Key')"
   ]
  },
  {
   "cell_type": "code",
   "execution_count": 101,
   "id": "8264e049",
   "metadata": {},
   "outputs": [
    {
     "data": {
      "text/plain": [
       "(236, 28)"
      ]
     },
     "execution_count": 101,
     "metadata": {},
     "output_type": "execute_result"
    }
   ],
   "source": [
    "ndata.shape"
   ]
  },
  {
   "cell_type": "code",
   "execution_count": 102,
   "id": "2a032ec9",
   "metadata": {},
   "outputs": [],
   "source": [
    "ndata.to_excel(os.path.join(path, 'MTIP24_27_List_IDs.xlsx'), \n",
    "               sheet_name='2024-2027 Project List', \n",
    "               index=False)  "
   ]
  },
  {
   "cell_type": "code",
   "execution_count": 94,
   "id": "34b1599f",
   "metadata": {},
   "outputs": [],
   "source": [
    "# overwrite the existing data\n",
    "npoints_added.to_file(os.path.join(path, 'FY24_27_points.shp'))"
   ]
  }
 ],
 "metadata": {
  "kernelspec": {
   "display_name": "Python 3",
   "language": "python",
   "name": "python3"
  },
  "language_info": {
   "codemirror_mode": {
    "name": "ipython",
    "version": 3
   },
   "file_extension": ".py",
   "mimetype": "text/x-python",
   "name": "python",
   "nbconvert_exporter": "python",
   "pygments_lexer": "ipython3",
   "version": "3.8.8"
  }
 },
 "nbformat": 4,
 "nbformat_minor": 5
}
