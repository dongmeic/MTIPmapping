{
 "cells": [
  {
   "cell_type": "code",
   "execution_count": 13,
   "id": "67044bb8",
   "metadata": {},
   "outputs": [],
   "source": [
    "import pandas as pd\n",
    "import numpy as np\n",
    "import geopandas as gpd\n",
    "import os\n",
    "from sqlalchemy import create_engine\n",
    "import re\n",
    "from MTIPmapping import *"
   ]
  },
  {
   "cell_type": "code",
   "execution_count": 2,
   "id": "26219d54",
   "metadata": {},
   "outputs": [],
   "source": [
    "path = r'T:\\MPO\\TIP\\TIP FY24-27\\Maps\\Data'\n",
    "points = gpd.read_file(os.path.join(path, 'FY24_27_points.shp'))\n",
    "lines = gpd.read_file(os.path.join(path, 'FY24_27_lines.shp'))"
   ]
  },
  {
   "cell_type": "code",
   "execution_count": 3,
   "id": "f3e14159",
   "metadata": {},
   "outputs": [
    {
     "data": {
      "text/plain": [
       "['22348']"
      ]
     },
     "execution_count": 3,
     "metadata": {},
     "output_type": "execute_result"
    }
   ],
   "source": [
    "[k for k in points.STIP_Key.unique() if k in lines.STIP_Key.unique()]"
   ]
  },
  {
   "cell_type": "code",
   "execution_count": 4,
   "id": "f9848bea",
   "metadata": {},
   "outputs": [
    {
     "data": {
      "text/plain": [
       "array([14], dtype=int64)"
      ]
     },
     "execution_count": 4,
     "metadata": {},
     "output_type": "execute_result"
    }
   ],
   "source": [
    "points.loc[points.STIP_Key=='22348', 'ID'].unique()"
   ]
  },
  {
   "cell_type": "code",
   "execution_count": 5,
   "id": "7b6883d2",
   "metadata": {},
   "outputs": [],
   "source": [
    "data = pd.read_excel(r'T:\\MPO\\TIP\\TIP FY24-27\\Maps\\MTIP_FY24-27_20230303.xlsx')"
   ]
  },
  {
   "cell_type": "code",
   "execution_count": 6,
   "id": "e310b69b",
   "metadata": {},
   "outputs": [
    {
     "data": {
      "text/plain": [
       "(190, 19)"
      ]
     },
     "execution_count": 6,
     "metadata": {},
     "output_type": "execute_result"
    }
   ],
   "source": [
    "data.shape"
   ]
  },
  {
   "cell_type": "code",
   "execution_count": 7,
   "id": "f8ee1185",
   "metadata": {},
   "outputs": [],
   "source": [
    "Ids = points[['STIP_Key', 'ID']].drop_duplicates().append(lines[['STIP_Key', 'ID']].drop_duplicates(), ignore_index=True)\n",
    "Ids.rename(columns={'STIP_Key':'STIP Key'}, inplace=True)"
   ]
  },
  {
   "cell_type": "code",
   "execution_count": 8,
   "id": "9a7f5042",
   "metadata": {},
   "outputs": [
    {
     "data": {
      "text/plain": [
       "Index(['Geo', 'Project Name', 'MTIP ID #', 'Project Description', 'Work Type',\n",
       "       'Perf. Meas.', 'RTP Project Number / Ref.', 'Air Quality Status',\n",
       "       'STIP Key', 'FFY', 'Phase', 'Federal Funding',\n",
       "       'Federal Funding Source ', 'Federal Req. Match',\n",
       "       'Federal Req. Match Source', 'Total Fed+ Req Match', 'Other Funding',\n",
       "       'Other Funding Source', 'Total All Sources'],\n",
       "      dtype='object')"
      ]
     },
     "execution_count": 8,
     "metadata": {},
     "output_type": "execute_result"
    }
   ],
   "source": [
    "data.columns"
   ]
  },
  {
   "cell_type": "code",
   "execution_count": 9,
   "id": "e007dcb6",
   "metadata": {},
   "outputs": [],
   "source": [
    "Ids['STIP Key'] = Ids['STIP Key'].astype(np.int64)"
   ]
  },
  {
   "cell_type": "code",
   "execution_count": 10,
   "id": "b719bfd7",
   "metadata": {},
   "outputs": [],
   "source": [
    "ndata = data.merge(Ids, how='outer', on='STIP Key')"
   ]
  },
  {
   "cell_type": "code",
   "execution_count": 11,
   "id": "f72b4acc",
   "metadata": {},
   "outputs": [
    {
     "data": {
      "text/plain": [
       "True"
      ]
     },
     "execution_count": 11,
     "metadata": {},
     "output_type": "execute_result"
    }
   ],
   "source": [
    "23058 in ndata['STIP Key'].unique()"
   ]
  },
  {
   "cell_type": "code",
   "execution_count": 12,
   "id": "9a39b235",
   "metadata": {},
   "outputs": [],
   "source": [
    "sdata = ndata[ndata['STIP Key'] != 23058]"
   ]
  },
  {
   "cell_type": "code",
   "execution_count": 17,
   "id": "57266453",
   "metadata": {},
   "outputs": [],
   "source": [
    "sdata.loc[:,'AQ Exempt?'] = sdata.loc[:,'Air Quality Status'].apply(lambda x: getAQvars(x, var='AQ Exempt?')) \n",
    "sdata.loc[:,'AQ Status'] = sdata.loc[:,'Air Quality Status'].apply(lambda x: getAQvars(x, var='AQ Status'))\n",
    "sdata.loc[:,'IAC'] = sdata.loc[:,'Air Quality Status'].apply(lambda x: getAQvars(x, var='IAC')) "
   ]
  },
  {
   "cell_type": "code",
   "execution_count": 19,
   "id": "f606a65f",
   "metadata": {},
   "outputs": [],
   "source": [
    "pointdata = get_district_IDs(dat=points, shptype='point', keycol='STIP_Key', \n",
    "                             colnm1='Senator District', colnm2='Representative District')\n",
    "linedata = get_district_IDs(dat=lines, shptype='line', keycol='STIP_Key', \n",
    "                             colnm1='Senator District', colnm2='Representative District')"
   ]
  },
  {
   "cell_type": "code",
   "execution_count": 21,
   "id": "2dd2c141",
   "metadata": {},
   "outputs": [],
   "source": [
    "df = pointdata.append(linedata , ignore_index=True)\n",
    "df.rename(columns={'STIP_Key':'STIP Key'}, inplace=True)\n",
    "df['STIP Key'] = df['STIP Key'].astype(np.int64)"
   ]
  },
  {
   "cell_type": "code",
   "execution_count": 22,
   "id": "4e33e663",
   "metadata": {},
   "outputs": [],
   "source": [
    "ndata = sdata.merge(df, how='outer', on='STIP Key')"
   ]
  },
  {
   "cell_type": "code",
   "execution_count": 23,
   "id": "6e9cc738",
   "metadata": {},
   "outputs": [
    {
     "data": {
      "text/plain": [
       "(222, 25)"
      ]
     },
     "execution_count": 23,
     "metadata": {},
     "output_type": "execute_result"
    }
   ],
   "source": [
    "ndata.shape"
   ]
  },
  {
   "cell_type": "code",
   "execution_count": 24,
   "id": "91eaadbb",
   "metadata": {},
   "outputs": [],
   "source": [
    "ndata.to_excel(os.path.join(path, 'MTIP24_27_List_20230303.xlsx'), \n",
    "               sheet_name='2024-2027 Project List', \n",
    "               index=False)  "
   ]
  }
 ],
 "metadata": {
  "kernelspec": {
   "display_name": "Python 3",
   "language": "python",
   "name": "python3"
  },
  "language_info": {
   "codemirror_mode": {
    "name": "ipython",
    "version": 3
   },
   "file_extension": ".py",
   "mimetype": "text/x-python",
   "name": "python",
   "nbconvert_exporter": "python",
   "pygments_lexer": "ipython3",
   "version": "3.8.8"
  }
 },
 "nbformat": 4,
 "nbformat_minor": 5
}
