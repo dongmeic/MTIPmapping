{
 "cells": [
  {
   "cell_type": "code",
   "execution_count": 1,
   "id": "99697145",
   "metadata": {},
   "outputs": [],
   "source": [
    "import json\n",
    "from urllib.request import urlopen\n",
    "import arcpy\n",
    "from arcpy import env\n",
    "import os\n",
    "import arcgis\n",
    "from arcgis.gis import GIS"
   ]
  },
  {
   "cell_type": "code",
   "execution_count": 2,
   "id": "8d55024d",
   "metadata": {},
   "outputs": [],
   "source": [
    "path = r'T:\\MPO\\TIP\\TIP FY24-27\\Maps\\Data'\n",
    "arcpy.env.workspace = os.path.join(path, 'Data.gdb')\n",
    "arcpy.env.overwriteOutput = True"
   ]
  },
  {
   "cell_type": "code",
   "execution_count": 7,
   "id": "00d115ab",
   "metadata": {},
   "outputs": [],
   "source": [
    "def write_json(url_string, filename):\n",
    "    response = urlopen(url_string)\n",
    "    data = response.read()\n",
    "    txt_str = data.decode('utf-8')\n",
    "    lines = txt_str.split(\"\\r\\n\")\n",
    "    file = path + '\\\\' + filename + '.json'\n",
    "    fx = open(file, \"w\")\n",
    "    for line in lines:\n",
    "        fx.write(line+ \"\\n\")\n",
    "    fx.close()"
   ]
  },
  {
   "cell_type": "code",
   "execution_count": 33,
   "id": "993d1ac1",
   "metadata": {},
   "outputs": [],
   "source": [
    "write_json('https://gis.odot.state.or.us/arcgis1006/rest/services/tpt/tpt_display/MapServer/1?f=pjson',\n",
    "        'all_lines')"
   ]
  },
  {
   "cell_type": "code",
   "execution_count": 34,
   "id": "ae32c815",
   "metadata": {},
   "outputs": [],
   "source": [
    "def json2shp(filename):\n",
    "    file = path + '\\\\' + filename + '.json'\n",
    "    arcpy.JSONToFeatures_conversion(file, filename)"
   ]
  },
  {
   "cell_type": "code",
   "execution_count": 36,
   "id": "fedce080",
   "metadata": {},
   "outputs": [],
   "source": [
    "# this doesn't include spatial data\n",
    "#json2shp('all_lines')"
   ]
  },
  {
   "cell_type": "code",
   "execution_count": 14,
   "id": "4dea29c8",
   "metadata": {},
   "outputs": [],
   "source": [
    "gis = GIS('home')"
   ]
  },
  {
   "cell_type": "code",
   "execution_count": 15,
   "id": "69826184",
   "metadata": {},
   "outputs": [
    {
     "data": {
      "text/plain": [
       "'DCHEN_LCOG'"
      ]
     },
     "execution_count": 15,
     "metadata": {},
     "output_type": "execute_result"
    }
   ],
   "source": [
    "gis.users.me.username"
   ]
  },
  {
   "cell_type": "code",
   "execution_count": 18,
   "id": "ed04b914",
   "metadata": {},
   "outputs": [],
   "source": [
    "items = gis.content.search(query=\"owner:\" + gis.users.me.username + \" AND title:Project Tracker\",\n",
    "                               item_type=\"Web Map\")"
   ]
  },
  {
   "cell_type": "code",
   "execution_count": 19,
   "id": "6f6e2f5a",
   "metadata": {},
   "outputs": [
    {
     "data": {
      "text/plain": [
       "[<Item title:\"Project Tracker\" type:Web Map owner:DCHEN_LCOG>]"
      ]
     },
     "execution_count": 19,
     "metadata": {},
     "output_type": "execute_result"
    }
   ],
   "source": [
    "items"
   ]
  }
 ],
 "metadata": {
  "kernelspec": {
   "display_name": "Python 3",
   "language": "python",
   "name": "python3"
  },
  "language_info": {
   "codemirror_mode": {
    "name": "ipython",
    "version": 3
   },
   "file_extension": ".py",
   "mimetype": "text/x-python",
   "name": "python",
   "nbconvert_exporter": "python",
   "pygments_lexer": "ipython3",
   "version": "3.8.8"
  }
 },
 "nbformat": 4,
 "nbformat_minor": 5
}
