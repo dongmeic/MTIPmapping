{
 "cells": [
  {
   "cell_type": "code",
   "execution_count": 1,
   "id": "d634f6f2",
   "metadata": {},
   "outputs": [],
   "source": [
    "import pandas as pd\n",
    "import geopandas as gpd"
   ]
  },
  {
   "cell_type": "code",
   "execution_count": 25,
   "id": "9f302901",
   "metadata": {},
   "outputs": [],
   "source": [
    "path = r'T:\\MPO\\TIP\\TIP FY24-27\\Maps\\Data'"
   ]
  },
  {
   "cell_type": "code",
   "execution_count": 26,
   "id": "8f2d843a",
   "metadata": {},
   "outputs": [],
   "source": [
    "file = path + '\\\\MTIP24_27_List.xlsx'"
   ]
  },
  {
   "cell_type": "code",
   "execution_count": 27,
   "id": "8a02948e",
   "metadata": {},
   "outputs": [],
   "source": [
    "data = pd.read_excel(file)"
   ]
  },
  {
   "cell_type": "code",
   "execution_count": 18,
   "id": "73849eb2",
   "metadata": {},
   "outputs": [
    {
     "data": {
      "text/html": [
       "<div>\n",
       "<style scoped>\n",
       "    .dataframe tbody tr th:only-of-type {\n",
       "        vertical-align: middle;\n",
       "    }\n",
       "\n",
       "    .dataframe tbody tr th {\n",
       "        vertical-align: top;\n",
       "    }\n",
       "\n",
       "    .dataframe thead th {\n",
       "        text-align: right;\n",
       "    }\n",
       "</style>\n",
       "<table border=\"1\" class=\"dataframe\">\n",
       "  <thead>\n",
       "    <tr style=\"text-align: right;\">\n",
       "      <th></th>\n",
       "      <th>Geo</th>\n",
       "      <th>Project Name</th>\n",
       "      <th>MTIP ID #</th>\n",
       "      <th>Project Description</th>\n",
       "      <th>Work Type</th>\n",
       "      <th>Perf. Meas.</th>\n",
       "      <th>RTP Project Number / Ref.</th>\n",
       "      <th>In AQ CATS?</th>\n",
       "      <th>In\\nAQMA?</th>\n",
       "      <th>Air Quality Status</th>\n",
       "      <th>...</th>\n",
       "      <th>Phase</th>\n",
       "      <th>Phase Status</th>\n",
       "      <th>Federal Funding</th>\n",
       "      <th>Federal Funding Source</th>\n",
       "      <th>Federal Req. Match</th>\n",
       "      <th>Federal Req. Match Source</th>\n",
       "      <th>Total Fed+ Req Match</th>\n",
       "      <th>Other Funding</th>\n",
       "      <th>Other Funding Source</th>\n",
       "      <th>Total All Sources</th>\n",
       "    </tr>\n",
       "  </thead>\n",
       "  <tbody>\n",
       "    <tr>\n",
       "      <th>0</th>\n",
       "      <td>Central Lane MPO</td>\n",
       "      <td>Central Lane MPO planning SFY25</td>\n",
       "      <td>191003.0</td>\n",
       "      <td>Central Lane MPO planning funds for Federal fi...</td>\n",
       "      <td>PL</td>\n",
       "      <td>--</td>\n",
       "      <td>--</td>\n",
       "      <td>NaN</td>\n",
       "      <td>NaN</td>\n",
       "      <td>EXEMPT / Other-Planning and Technical Studies ...</td>\n",
       "      <td>...</td>\n",
       "      <td>PL</td>\n",
       "      <td>Pending</td>\n",
       "      <td>565509.87</td>\n",
       "      <td>PL Y450</td>\n",
       "      <td>64725.13</td>\n",
       "      <td>ODOT</td>\n",
       "      <td>630235.00</td>\n",
       "      <td>NaN</td>\n",
       "      <td>NaN</td>\n",
       "      <td>630235.00</td>\n",
       "    </tr>\n",
       "    <tr>\n",
       "      <th>1</th>\n",
       "      <td>Central Lane MPO</td>\n",
       "      <td>NaN</td>\n",
       "      <td>NaN</td>\n",
       "      <td>NaN</td>\n",
       "      <td>NaN</td>\n",
       "      <td>NaN</td>\n",
       "      <td>NaN</td>\n",
       "      <td>NaN</td>\n",
       "      <td>NaN</td>\n",
       "      <td>NaN</td>\n",
       "      <td>...</td>\n",
       "      <td>PL</td>\n",
       "      <td>Pending</td>\n",
       "      <td>169812.00</td>\n",
       "      <td>5303 21MP</td>\n",
       "      <td>19435.75</td>\n",
       "      <td>LTD</td>\n",
       "      <td>189247.75</td>\n",
       "      <td>NaN</td>\n",
       "      <td>NaN</td>\n",
       "      <td>189247.75</td>\n",
       "    </tr>\n",
       "    <tr>\n",
       "      <th>2</th>\n",
       "      <td>Central Lane MPO</td>\n",
       "      <td>Central Lane MPO planning SFY26</td>\n",
       "      <td>230501.0</td>\n",
       "      <td>Planning funds for projects identified in stat...</td>\n",
       "      <td>PL</td>\n",
       "      <td>--</td>\n",
       "      <td>--</td>\n",
       "      <td>NaN</td>\n",
       "      <td>NaN</td>\n",
       "      <td>EXEMPT / Other-Planning and Technical Studies</td>\n",
       "      <td>...</td>\n",
       "      <td>PL</td>\n",
       "      <td>Draft</td>\n",
       "      <td>747349.97</td>\n",
       "      <td>PL Y450</td>\n",
       "      <td>85537.55</td>\n",
       "      <td>ODOT</td>\n",
       "      <td>832887.52</td>\n",
       "      <td>NaN</td>\n",
       "      <td>NaN</td>\n",
       "      <td>832887.52</td>\n",
       "    </tr>\n",
       "  </tbody>\n",
       "</table>\n",
       "<p>3 rows × 22 columns</p>\n",
       "</div>"
      ],
      "text/plain": [
       "                Geo                     Project Name  MTIP ID #  \\\n",
       "0  Central Lane MPO  Central Lane MPO planning SFY25   191003.0   \n",
       "1  Central Lane MPO                              NaN        NaN   \n",
       "2  Central Lane MPO  Central Lane MPO planning SFY26   230501.0   \n",
       "\n",
       "                                 Project Description Work Type Perf. Meas.  \\\n",
       "0  Central Lane MPO planning funds for Federal fi...        PL          --   \n",
       "1                                                NaN       NaN         NaN   \n",
       "2  Planning funds for projects identified in stat...        PL          --   \n",
       "\n",
       "  RTP Project Number / Ref.  In AQ CATS?  In\\nAQMA?  \\\n",
       "0                        --          NaN        NaN   \n",
       "1                       NaN          NaN        NaN   \n",
       "2                        --          NaN        NaN   \n",
       "\n",
       "                                  Air Quality Status  ...  Phase  \\\n",
       "0  EXEMPT / Other-Planning and Technical Studies ...  ...     PL   \n",
       "1                                                NaN  ...     PL   \n",
       "2      EXEMPT / Other-Planning and Technical Studies  ...     PL   \n",
       "\n",
       "   Phase Status Federal Funding  Federal Funding Source  Federal Req. Match  \\\n",
       "0       Pending        565509.87                PL Y450            64725.13   \n",
       "1       Pending        169812.00              5303 21MP            19435.75   \n",
       "2         Draft        747349.97                PL Y450            85537.55   \n",
       "\n",
       "  Federal Req. Match Source  Total Fed+ Req Match Other Funding  \\\n",
       "0                      ODOT             630235.00           NaN   \n",
       "1                       LTD             189247.75           NaN   \n",
       "2                      ODOT             832887.52           NaN   \n",
       "\n",
       "   Other Funding Source  Total All Sources  \n",
       "0                   NaN          630235.00  \n",
       "1                   NaN          189247.75  \n",
       "2                   NaN          832887.52  \n",
       "\n",
       "[3 rows x 22 columns]"
      ]
     },
     "execution_count": 18,
     "metadata": {},
     "output_type": "execute_result"
    }
   ],
   "source": [
    "data.head(3)"
   ]
  },
  {
   "cell_type": "code",
   "execution_count": 19,
   "id": "3ba31f83",
   "metadata": {},
   "outputs": [
    {
     "data": {
      "text/plain": [
       "Index(['Geo', 'Project Name', 'MTIP ID #', 'Project Description', 'Work Type',\n",
       "       'Perf. Meas.', 'RTP Project Number / Ref.', 'In AQ CATS?', 'In\\nAQMA?',\n",
       "       'Air Quality Status', 'STIP Key', 'FFY', 'Phase', 'Phase Status',\n",
       "       'Federal Funding ', 'Federal Funding Source', 'Federal Req. Match',\n",
       "       'Federal Req. Match Source', 'Total Fed+ Req Match', 'Other Funding',\n",
       "       'Other Funding Source', 'Total All Sources'],\n",
       "      dtype='object')"
      ]
     },
     "execution_count": 19,
     "metadata": {},
     "output_type": "execute_result"
    }
   ],
   "source": [
    "data.columns"
   ]
  },
  {
   "cell_type": "code",
   "execution_count": 20,
   "id": "89e95664",
   "metadata": {},
   "outputs": [
    {
     "data": {
      "text/plain": [
       "(180, 22)"
      ]
     },
     "execution_count": 20,
     "metadata": {},
     "output_type": "execute_result"
    }
   ],
   "source": [
    "data.shape"
   ]
  },
  {
   "cell_type": "code",
   "execution_count": 22,
   "id": "11511d00",
   "metadata": {},
   "outputs": [
    {
     "data": {
      "text/plain": [
       "66"
      ]
     },
     "execution_count": 22,
     "metadata": {},
     "output_type": "execute_result"
    }
   ],
   "source": [
    "len(data['MTIP ID #'].unique())"
   ]
  },
  {
   "cell_type": "code",
   "execution_count": 23,
   "id": "830db255",
   "metadata": {},
   "outputs": [
    {
     "data": {
      "text/plain": [
       "68"
      ]
     },
     "execution_count": 23,
     "metadata": {},
     "output_type": "execute_result"
    }
   ],
   "source": [
    "len(data['STIP Key'].unique())"
   ]
  },
  {
   "cell_type": "code",
   "execution_count": null,
   "id": "861d9e50",
   "metadata": {},
   "outputs": [],
   "source": [
    "lines = "
   ]
  }
 ],
 "metadata": {
  "kernelspec": {
   "display_name": "Python 3",
   "language": "python",
   "name": "python3"
  },
  "language_info": {
   "codemirror_mode": {
    "name": "ipython",
    "version": 3
   },
   "file_extension": ".py",
   "mimetype": "text/x-python",
   "name": "python",
   "nbconvert_exporter": "python",
   "pygments_lexer": "ipython3",
   "version": "3.8.8"
  }
 },
 "nbformat": 4,
 "nbformat_minor": 5
}
