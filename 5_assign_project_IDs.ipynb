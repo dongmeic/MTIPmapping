{
 "cells": [
  {
   "cell_type": "code",
   "execution_count": 1,
   "id": "4c9cd12f",
   "metadata": {},
   "outputs": [],
   "source": [
    "import pandas as pd\n",
    "import numpy as np\n",
    "import geopandas as gpd\n",
    "import os"
   ]
  },
  {
   "cell_type": "code",
   "execution_count": 2,
   "id": "07b7ac0a",
   "metadata": {},
   "outputs": [],
   "source": [
    "path = r'T:\\MPO\\TIP\\TIP FY24-27\\Maps\\Data'"
   ]
  },
  {
   "cell_type": "code",
   "execution_count": 10,
   "id": "03ed9425",
   "metadata": {},
   "outputs": [],
   "source": [
    "points = gpd.read_file(os.path.join(path, 'FY24_27_points.shp'))"
   ]
  },
  {
   "cell_type": "code",
   "execution_count": 11,
   "id": "2aeeab6f",
   "metadata": {},
   "outputs": [],
   "source": [
    "lines = gpd.read_file(os.path.join(path, 'FY24_27_lines.shp'))"
   ]
  },
  {
   "cell_type": "code",
   "execution_count": 32,
   "id": "47495041",
   "metadata": {},
   "outputs": [],
   "source": [
    "data = pd.read_excel(os.path.join(path, 'MTIP24_27_List_Updated.xlsx'))"
   ]
  },
  {
   "cell_type": "code",
   "execution_count": 33,
   "id": "1bb43d6b",
   "metadata": {},
   "outputs": [
    {
     "data": {
      "text/plain": [
       "(208, 27)"
      ]
     },
     "execution_count": 33,
     "metadata": {},
     "output_type": "execute_result"
    }
   ],
   "source": [
    "data.shape"
   ]
  },
  {
   "cell_type": "code",
   "execution_count": 20,
   "id": "cdd2b2c0",
   "metadata": {},
   "outputs": [],
   "source": [
    "Ids = points[['STIP_Key', 'ID']].drop_duplicates().append(lines[['STIP_Key', 'ID']].drop_duplicates(), ignore_index=True)"
   ]
  },
  {
   "cell_type": "code",
   "execution_count": 22,
   "id": "5472ffe0",
   "metadata": {},
   "outputs": [],
   "source": [
    "Ids.rename(columns={'STIP_Key':'STIP Key'}, inplace=True)"
   ]
  },
  {
   "cell_type": "code",
   "execution_count": 23,
   "id": "3473a7c2",
   "metadata": {},
   "outputs": [
    {
     "data": {
      "text/plain": [
       "Index(['Geo', 'Project Name', 'MTIP ID #', 'Project Description', 'Work Type',\n",
       "       'Perf. Meas.', 'RTP Project Number / Ref.', 'In AQ CATS?', 'In\\nAQMA?',\n",
       "       'Air Quality Status', 'STIP Key', 'FFY', 'Phase', 'Phase Status',\n",
       "       'Federal Funding ', 'Federal Funding Source', 'Federal Req. Match',\n",
       "       'Federal Req. Match Source', 'Total Fed+ Req Match', 'Other Funding',\n",
       "       'Other Funding Source', 'Total All Sources', 'AQ Exempt?', 'AQ Status',\n",
       "       'IAC', 'Representative District', 'Senator District'],\n",
       "      dtype='object')"
      ]
     },
     "execution_count": 23,
     "metadata": {},
     "output_type": "execute_result"
    }
   ],
   "source": [
    "data.columns"
   ]
  },
  {
   "cell_type": "code",
   "execution_count": 25,
   "id": "8073d542",
   "metadata": {},
   "outputs": [],
   "source": [
    "Ids['STIP Key'] = Ids['STIP Key'].astype(np.int64)"
   ]
  },
  {
   "cell_type": "code",
   "execution_count": 34,
   "id": "32587415",
   "metadata": {},
   "outputs": [],
   "source": [
    "ndata = data.merge(Ids, how='outer', on='STIP Key')"
   ]
  },
  {
   "cell_type": "code",
   "execution_count": 35,
   "id": "2d116bcf",
   "metadata": {},
   "outputs": [
    {
     "data": {
      "text/plain": [
       "(224, 28)"
      ]
     },
     "execution_count": 35,
     "metadata": {},
     "output_type": "execute_result"
    }
   ],
   "source": [
    "ndata.shape"
   ]
  },
  {
   "cell_type": "code",
   "execution_count": 36,
   "id": "1aa703a7",
   "metadata": {},
   "outputs": [],
   "source": [
    "ndata.to_excel(os.path.join(path, 'MTIP24_27_List_IDs.xlsx'), \n",
    "               sheet_name='2024-2027 Project List', \n",
    "               index=False)  "
   ]
  }
 ],
 "metadata": {
  "kernelspec": {
   "display_name": "Python 3",
   "language": "python",
   "name": "python3"
  },
  "language_info": {
   "codemirror_mode": {
    "name": "ipython",
    "version": 3
   },
   "file_extension": ".py",
   "mimetype": "text/x-python",
   "name": "python",
   "nbconvert_exporter": "python",
   "pygments_lexer": "ipython3",
   "version": "3.8.8"
  }
 },
 "nbformat": 4,
 "nbformat_minor": 5
}
