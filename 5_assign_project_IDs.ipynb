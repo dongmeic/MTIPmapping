{
 "cells": [
  {
   "cell_type": "code",
   "execution_count": 1,
   "id": "c796b1af",
   "metadata": {},
   "outputs": [],
   "source": [
    "import pandas as pd\n",
    "import numpy as np\n",
    "import geopandas as gpd\n",
    "import os"
   ]
  },
  {
   "cell_type": "code",
   "execution_count": 2,
   "id": "884d3f47",
   "metadata": {},
   "outputs": [],
   "source": [
    "path = r'T:\\MPO\\TIP\\TIP FY24-27\\Maps\\Data'"
   ]
  },
  {
   "cell_type": "code",
   "execution_count": 3,
   "id": "07b2910d",
   "metadata": {},
   "outputs": [],
   "source": [
    "# this data has been modified\n",
    "points = gpd.read_file(os.path.join(path, 'FY24_27_points.shp'))"
   ]
  },
  {
   "cell_type": "code",
   "execution_count": 4,
   "id": "9177e701",
   "metadata": {},
   "outputs": [],
   "source": [
    "lines = gpd.read_file(os.path.join(path, 'FY24_27_lines.shp'))"
   ]
  },
  {
   "cell_type": "code",
   "execution_count": 5,
   "id": "035ff463",
   "metadata": {},
   "outputs": [],
   "source": [
    "data = pd.read_excel(os.path.join(path, 'MTIP24_27_List_Updated.xlsx'))"
   ]
  },
  {
   "cell_type": "code",
   "execution_count": 6,
   "id": "558f6e8c",
   "metadata": {},
   "outputs": [
    {
     "data": {
      "text/plain": [
       "(188, 27)"
      ]
     },
     "execution_count": 6,
     "metadata": {},
     "output_type": "execute_result"
    }
   ],
   "source": [
    "data.shape"
   ]
  },
  {
   "cell_type": "code",
   "execution_count": 7,
   "id": "f1155723",
   "metadata": {},
   "outputs": [],
   "source": [
    "Ids = points[['STIP_Key', 'ID']].drop_duplicates().append(lines[['STIP_Key', 'ID']].drop_duplicates(), ignore_index=True)"
   ]
  },
  {
   "cell_type": "code",
   "execution_count": 8,
   "id": "715b21aa",
   "metadata": {},
   "outputs": [],
   "source": [
    "Ids.rename(columns={'STIP_Key':'STIP Key'}, inplace=True)"
   ]
  },
  {
   "cell_type": "code",
   "execution_count": 9,
   "id": "1dffad89",
   "metadata": {},
   "outputs": [
    {
     "data": {
      "text/plain": [
       "Index(['Geo', 'Project Name', 'MTIP ID #', 'Project Description', 'Work Type',\n",
       "       'Perf. Meas.', 'RTP Project Number / Ref.', 'In AQ CATS?', 'In\\nAQMA?',\n",
       "       'Air Quality Status', 'STIP Key', 'FFY', 'Phase', 'Phase Status',\n",
       "       'Federal Funding ', 'Federal Funding Source', 'Federal Req. Match',\n",
       "       'Federal Req. Match Source', 'Total Fed+ Req Match', 'Other Funding',\n",
       "       'Other Funding Source', 'Total All Sources', 'AQ Exempt?', 'AQ Status',\n",
       "       'IAC', 'Senator District', 'Representative District'],\n",
       "      dtype='object')"
      ]
     },
     "execution_count": 9,
     "metadata": {},
     "output_type": "execute_result"
    }
   ],
   "source": [
    "data.columns"
   ]
  },
  {
   "cell_type": "code",
   "execution_count": 10,
   "id": "82760d3b",
   "metadata": {},
   "outputs": [],
   "source": [
    "Ids['STIP Key'] = Ids['STIP Key'].astype(np.int64)"
   ]
  },
  {
   "cell_type": "code",
   "execution_count": 11,
   "id": "21495054",
   "metadata": {},
   "outputs": [],
   "source": [
    "ndata = data.merge(Ids, how='outer', on='STIP Key')"
   ]
  },
  {
   "cell_type": "code",
   "execution_count": 12,
   "id": "7aac4c63",
   "metadata": {},
   "outputs": [
    {
     "data": {
      "text/plain": [
       "(204, 28)"
      ]
     },
     "execution_count": 12,
     "metadata": {},
     "output_type": "execute_result"
    }
   ],
   "source": [
    "ndata.shape"
   ]
  },
  {
   "cell_type": "code",
   "execution_count": 13,
   "id": "a08612eb",
   "metadata": {},
   "outputs": [
    {
     "data": {
      "text/plain": [
       "True"
      ]
     },
     "execution_count": 13,
     "metadata": {},
     "output_type": "execute_result"
    }
   ],
   "source": [
    "23058 in ndata['STIP Key'].unique()"
   ]
  },
  {
   "cell_type": "code",
   "execution_count": 14,
   "id": "848138f0",
   "metadata": {},
   "outputs": [],
   "source": [
    "sdata = ndata[ndata['STIP Key'] != 23058]"
   ]
  },
  {
   "cell_type": "code",
   "execution_count": 15,
   "id": "703b03b7",
   "metadata": {},
   "outputs": [],
   "source": [
    "sdata.to_excel(os.path.join(path, 'MTIP24_27_List_IDs.xlsx'), \n",
    "               sheet_name='2024-2027 Project List', \n",
    "               index=False)  "
   ]
  }
 ],
 "metadata": {
  "kernelspec": {
   "display_name": "Python 3 (ipykernel)",
   "language": "python",
   "name": "python3"
  },
  "language_info": {
   "codemirror_mode": {
    "name": "ipython",
    "version": 3
   },
   "file_extension": ".py",
   "mimetype": "text/x-python",
   "name": "python",
   "nbconvert_exporter": "python",
   "pygments_lexer": "ipython3",
   "version": "3.8.15"
  }
 },
 "nbformat": 4,
 "nbformat_minor": 5
}
