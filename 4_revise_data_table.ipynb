{
 "cells": [
  {
   "cell_type": "code",
   "execution_count": 1,
   "id": "006110cd",
   "metadata": {},
   "outputs": [],
   "source": [
    "import pandas as pd\n",
    "import numpy as np\n",
    "import geopandas as gpd\n",
    "import os\n",
    "from sqlalchemy import create_engine\n",
    "import re"
   ]
  },
  {
   "cell_type": "code",
   "execution_count": 2,
   "id": "97c962c8",
   "metadata": {},
   "outputs": [],
   "source": [
    "path = r'T:\\MPO\\TIP\\TIP FY24-27\\Maps\\Data'"
   ]
  },
  {
   "cell_type": "code",
   "execution_count": 3,
   "id": "30e93cb5",
   "metadata": {},
   "outputs": [],
   "source": [
    "file = path + '\\\\MTIP24_27_List.xlsx'"
   ]
  },
  {
   "cell_type": "code",
   "execution_count": 4,
   "id": "61bd3c50",
   "metadata": {},
   "outputs": [],
   "source": [
    "data = pd.read_excel(file)"
   ]
  },
  {
   "cell_type": "code",
   "execution_count": 5,
   "id": "beb22185",
   "metadata": {},
   "outputs": [
    {
     "data": {
      "text/plain": [
       "Index(['Geo', 'Project Name', 'MTIP ID #', 'Project Description', 'Work Type',\n",
       "       'Perf. Meas.', 'RTP Project Number / Ref.', 'In AQ CATS?', 'In\\nAQMA?',\n",
       "       'Air Quality Status', 'STIP Key', 'FFY', 'Phase', 'Phase Status',\n",
       "       'Federal Funding ', 'Federal Funding Source', 'Federal Req. Match',\n",
       "       'Federal Req. Match Source', 'Total Fed+ Req Match', 'Other Funding',\n",
       "       'Other Funding Source', 'Total All Sources'],\n",
       "      dtype='object')"
      ]
     },
     "execution_count": 5,
     "metadata": {},
     "output_type": "execute_result"
    }
   ],
   "source": [
    "data.columns"
   ]
  },
  {
   "cell_type": "code",
   "execution_count": 6,
   "id": "a9e69b09",
   "metadata": {},
   "outputs": [
    {
     "data": {
      "text/plain": [
       "array(['EXEMPT / Other-Planning and Technical Studies (IAC conf 4/26/20)',\n",
       "       nan, 'EXEMPT / Other-Planning and Technical Studies',\n",
       "       'N/A (IAC conf 4/26/20)', 'N/A (IAC conf 11/3/21)',\n",
       "       'EXEMPT / Air Quality - Bicycle and Pedestrian facilities',\n",
       "       'Outside PM10 air quality maintenance area',\n",
       "       'Outside PM10 air quality maintenance area (IAC conf 11/3/21)',\n",
       "       'EXEMPT / Safety - Highway Safety Improvement Program implementation',\n",
       "       'EXEMPT / Other - Specific activities which do not involve or lead directly to construction',\n",
       "       'EXEMPT / Other - Planning and Technical Studies',\n",
       "       'EXEMPT / Safety - Projects that correct, improve, or eliminate a hazardous location or feature',\n",
       "       'Part of K16223, project level conformity was approved in interagency meeting 12/23/2020',\n",
       "       'EXEMPT / Safety - Highway Safety Improvement Program implementation; Air Quality - Bicycle and Pedestrian facilities (IAC conf 4/26/20)',\n",
       "       'EXEMPT / Safety - Projects that correct, improve, or eliminate a hazardous location or feature (IAC conf 11/3/21)',\n",
       "       'EXEMPT / Safety - Projects that correct, improve, or eliminate a hazardous location or feature; Air Quality - Bicycle and pedestrian facilities (IAC conf 4/26/20)',\n",
       "       'EXEMPT / Safety - Highway Safety Improvement Program implementation (IAC conf 4/26/20)',\n",
       "       'EXEMPT / Safety - Projects that correct, improve, or eliminate a hazardous location or feature. (IAC conf 11/3/21)',\n",
       "       'EXEMPT / Safety - Projects that correct, improve, or eliminate a hazardous location or feature (IAC conf 4/26/20)',\n",
       "       'EXEMPT / Air Quality - Bicycle and Pedestrian facilities; Safety - Projects that correct, improve, or eliminate a hazardous location or feature',\n",
       "       'EXEMPT / Safety - Pavement resurfacing and/or rehabilitation; Safety - Projects that correct, improve, or eliminate a hazardous location or feature',\n",
       "       'EXEMPT / Safety - Pavement resurfacing and/or rehabilitation',\n",
       "       'EXEMPT / Safety - Pavement resurfacing and/or rehabilitation (IAC conf 12/9/21)',\n",
       "       'EXEMPT / Safety - Pavement resurfacing and/or rehabilitation; Air Quality - Bicycle and pedestrian facilities (IAC conf 4/26/20)',\n",
       "       'EXEMPT / Mass Transit - Purchase of new buses to replace existing vehicles or for minor expansions of the fleet.',\n",
       "       'EXEMPT / Mass Transit - Reconstruction or renovation of transit buildings and structures.',\n",
       "       'EXEMPT / Mass Transit - Operating assistance to transit agencies',\n",
       "       'EXEMPT / Mass Transit - Rehabilitation of transit vehicles.',\n",
       "       'EXEMPT / Mass Transit - Reconstruction or renovation of transit buildings and structures; Construction of small passenger shelters and information kiosks.',\n",
       "       'EXEMPT / Mass Transit - Reconstruction or renovation of transit buildings and structures; Purchase of office, shop , and operating equipment for existing facilities.',\n",
       "       'EXEMPT / Safety - Projects that correct, improve, or eliminate a hazardous location or feature; Safety - Lighting improvements; Mass Transit - Reconstruction or renovation of transit buildings and structures; Mass Transit - Construction of small passenger shelters and information kiosks',\n",
       "       'EXEMPT / Mass Transit - Purchase of operating equipment for vehicles',\n",
       "       'EXEMPT / Mass Transit - Purchase of operating equipment for vehicles (IAC conf 4/26/20)',\n",
       "       'EXEMPT / Activities which do not involve or lead directly to construction',\n",
       "       'EXEMPT / Air Quality-Bicycle and pedestrian facilities',\n",
       "       'EXEMPT / Pavement resurfacing and/or rehabilitation',\n",
       "       'EXEMPT / Safety - Pavement resurfacing and/or rehabilitation (IAC conf 4/26/20)'],\n",
       "      dtype=object)"
      ]
     },
     "execution_count": 6,
     "metadata": {},
     "output_type": "execute_result"
    }
   ],
   "source": [
    "data['Air Quality Status'].unique()"
   ]
  },
  {
   "cell_type": "code",
   "execution_count": 7,
   "id": "4a39d383",
   "metadata": {},
   "outputs": [],
   "source": [
    "def getAQvars(x, var=['AQ Exempt?', 'AQ Status', 'IAC']):\n",
    "    if str(x) == 'nan':\n",
    "        res = None\n",
    "    elif var == 'AQ Exempt?':\n",
    "        if 'EXEMPT' in x:\n",
    "            res = 'Yes'\n",
    "        else:\n",
    "            res = 'No'\n",
    "    \n",
    "    elif var == 'IAC':\n",
    "        if 'IAC' in x:\n",
    "            res = 'IAC ' + x.split(' (IAC ')[1].split(')')[0]\n",
    "        else:\n",
    "            res = 'N/A'\n",
    "    \n",
    "    elif var == 'AQ Status':\n",
    "        if 'EXEMPT' in x:\n",
    "            if 'IAC' in x:\n",
    "                res = x.split('EXEMPT / ')[1].split(' (IAC')[0]\n",
    "            else:\n",
    "                res = x.split('EXEMPT / ')[1]\n",
    "        elif 'IAC' in x:\n",
    "            res = x.split(' (IAC')[0]\n",
    "        else:\n",
    "            res = x\n",
    "    \n",
    "    return res"
   ]
  },
  {
   "cell_type": "code",
   "execution_count": 8,
   "id": "65f7fa70",
   "metadata": {
    "scrolled": true
   },
   "outputs": [],
   "source": [
    "data['AQ Exempt?'] = data['Air Quality Status'].apply(lambda x: getAQvars(x, var='AQ Exempt?')) "
   ]
  },
  {
   "cell_type": "code",
   "execution_count": 9,
   "id": "b05a5701",
   "metadata": {},
   "outputs": [],
   "source": [
    "data['AQ Status'] = data['Air Quality Status'].apply(lambda x: getAQvars(x, var='AQ Status')) "
   ]
  },
  {
   "cell_type": "code",
   "execution_count": 10,
   "id": "21b4391c",
   "metadata": {},
   "outputs": [],
   "source": [
    "data['IAC'] = data['Air Quality Status'].apply(lambda x: getAQvars(x, var='IAC')) "
   ]
  },
  {
   "cell_type": "code",
   "execution_count": 11,
   "id": "dedd5cab",
   "metadata": {},
   "outputs": [],
   "source": [
    "# this data has been modified in ArcGIS Pro after mapping\n",
    "points = gpd.read_file(os.path.join(path, 'FY24_27_points.shp'))"
   ]
  },
  {
   "cell_type": "code",
   "execution_count": 12,
   "id": "73379ca0",
   "metadata": {},
   "outputs": [],
   "source": [
    "# this data has been modified in ArcGIS Pro after mapping\n",
    "lines = gpd.read_file(os.path.join(path, 'FY24_27_lines.shp'))"
   ]
  },
  {
   "cell_type": "code",
   "execution_count": 13,
   "id": "194e7ff6",
   "metadata": {},
   "outputs": [],
   "source": [
    "# read data from RLIDgeo\n",
    "engine = create_engine(   \n",
    "\"mssql+pyodbc:///?odbc_connect=\"\n",
    "\"Driver%3D%7BODBC+Driver+17+for+SQL+Server%7D%3B\"\n",
    "\"Server%3Drliddb.int.lcog.org%2C5433%3B\"\n",
    "\"Database%3DRLIDGeo%3B\"\n",
    "\"Trusted_Connection%3Dyes%3B\"\n",
    "\"ApplicationIntent%3DReadWrite%3B\"\n",
    "\"WSID%3Dclwrk4087.int.lcog.org%3B\")"
   ]
  },
  {
   "cell_type": "code",
   "execution_count": 14,
   "id": "53765301",
   "metadata": {},
   "outputs": [],
   "source": [
    "rep_sql = '''\n",
    "SELECT \n",
    "repdist AS id,\n",
    "repname AS name,\n",
    "Shape.STAsBinary() AS geometry\n",
    "FROM dbo.StateRepDist;\n",
    "'''"
   ]
  },
  {
   "cell_type": "code",
   "execution_count": 15,
   "id": "a1c328db",
   "metadata": {},
   "outputs": [],
   "source": [
    "sen_sql = '''\n",
    "SELECT \n",
    "sendist AS id,\n",
    "senname AS name,\n",
    "Shape.STAsBinary() AS geometry\n",
    "FROM dbo.StateSenDist;\n",
    "'''"
   ]
  },
  {
   "cell_type": "code",
   "execution_count": 16,
   "id": "5c0495c8",
   "metadata": {},
   "outputs": [],
   "source": [
    "StateRepDist = gpd.GeoDataFrame.from_postgis(rep_sql, engine, geom_col='geometry')"
   ]
  },
  {
   "cell_type": "code",
   "execution_count": 17,
   "id": "b3b36c4b",
   "metadata": {},
   "outputs": [],
   "source": [
    "StateRepDist.crs = \"EPSG:2914\""
   ]
  },
  {
   "cell_type": "code",
   "execution_count": 18,
   "id": "844ba6e5",
   "metadata": {},
   "outputs": [],
   "source": [
    "StateSenDist = gpd.GeoDataFrame.from_postgis(sen_sql, engine, geom_col='geometry') "
   ]
  },
  {
   "cell_type": "code",
   "execution_count": 19,
   "id": "276ab5ed",
   "metadata": {},
   "outputs": [],
   "source": [
    "StateSenDist.crs = \"EPSG:2914\""
   ]
  },
  {
   "cell_type": "code",
   "execution_count": 20,
   "id": "6b723b89",
   "metadata": {},
   "outputs": [],
   "source": [
    "StateRepDist = StateRepDist.to_crs(epsg=2992)"
   ]
  },
  {
   "cell_type": "code",
   "execution_count": 21,
   "id": "0bedfcce",
   "metadata": {},
   "outputs": [],
   "source": [
    "StateSenDist = StateSenDist.to_crs(epsg=2992)"
   ]
  },
  {
   "cell_type": "code",
   "execution_count": 22,
   "id": "0ee1e97d",
   "metadata": {},
   "outputs": [],
   "source": [
    "# points in polygons\n",
    "def get_pip(points, polygon):\n",
    "    id_list = list(polygon.id)\n",
    "    df = pd.DataFrame().reindex_like(points).dropna()\n",
    "    for ID in id_list:\n",
    "        pol = (polygon.loc[polygon.id==ID])\n",
    "        pol.reset_index(drop = True, inplace = True)\n",
    "        pip_mask = points.within(pol.loc[0, 'geometry'])\n",
    "        pip_data = points.loc[pip_mask].copy()\n",
    "        pip_data['id']= ID\n",
    "        df = df.append(pip_data)\n",
    "    df.reset_index(inplace=True, drop=True)\n",
    "    df = df.drop(columns='geometry')\n",
    "    return df"
   ]
  },
  {
   "cell_type": "code",
   "execution_count": 23,
   "id": "7ed54f99",
   "metadata": {},
   "outputs": [],
   "source": [
    "def reorder(x):\n",
    "    if len(x) >= 4:\n",
    "        if ',' in re.search(r',', x).group():\n",
    "            res = ', '.join(str(x) for x in sorted([eval(i) for i in x.split(', ')]))\n",
    "        else:\n",
    "            res = x\n",
    "    else:\n",
    "        res = x\n",
    "    return res"
   ]
  },
  {
   "cell_type": "code",
   "execution_count": 24,
   "id": "bd8b6d41",
   "metadata": {},
   "outputs": [],
   "source": [
    "def get_district_IDs(dat=points,\n",
    "                     shptype='point',\n",
    "                     ply1=StateSenDist, \n",
    "                     ply2=StateRepDist, \n",
    "                     keycol='STIP_Key',\n",
    "                     colnm1='Senator District',\n",
    "                     colnm2='Representative District'):\n",
    "    if shptype=='point':\n",
    "        joined1 = get_pip(dat, ply1)\n",
    "        joined2 = get_pip(dat, ply2)\n",
    "    \n",
    "    else:\n",
    "        joined1 = gpd.sjoin(dat, ply1)\n",
    "        joined2 = gpd.sjoin(dat, ply2)    \n",
    "    \n",
    "    joined1.rename(columns={'id':colnm1}, inplace=True)\n",
    "    joined2.rename(columns={'id':colnm2}, inplace=True)\n",
    "\n",
    "    joined1.drop_duplicates(ignore_index=True, inplace=True)\n",
    "    joined2.drop_duplicates(ignore_index=True, inplace=True)\n",
    "\n",
    "    joined1m = joined1[[keycol, colnm1]].groupby(keycol)[colnm1].apply(', '.join).reset_index()\n",
    "    joined2m = joined2[[keycol, colnm2]].groupby(keycol)[colnm2].apply(', '.join).reset_index()\n",
    "    joined_c = joined1m.merge(joined2m, on=keycol)\n",
    "    \n",
    "    joined_c[colnm1] = joined_c[colnm1].apply(reorder)\n",
    "    joined_c[colnm2] = joined_c[colnm2].apply(reorder)\n",
    "    \n",
    "    return joined_c"
   ]
  },
  {
   "cell_type": "code",
   "execution_count": 25,
   "id": "4a21c35b",
   "metadata": {},
   "outputs": [],
   "source": [
    "pointdata = get_district_IDs()"
   ]
  },
  {
   "cell_type": "code",
   "execution_count": 26,
   "id": "14a78107",
   "metadata": {},
   "outputs": [],
   "source": [
    "linedata = get_district_IDs(dat=lines, shptype='line')"
   ]
  },
  {
   "cell_type": "code",
   "execution_count": 27,
   "id": "5ae4041a",
   "metadata": {},
   "outputs": [],
   "source": [
    "df = pointdata.append(linedata , ignore_index=True)"
   ]
  },
  {
   "cell_type": "code",
   "execution_count": 28,
   "id": "80ae26ce",
   "metadata": {},
   "outputs": [],
   "source": [
    "df.rename(columns={'STIP_Key':'STIP Key'}, inplace=True)"
   ]
  },
  {
   "cell_type": "code",
   "execution_count": 29,
   "id": "4bb77f15",
   "metadata": {},
   "outputs": [],
   "source": [
    "df['STIP Key'] = df['STIP Key'].astype(np.int64)"
   ]
  },
  {
   "cell_type": "code",
   "execution_count": 30,
   "id": "34c877c5",
   "metadata": {},
   "outputs": [
    {
     "data": {
      "text/plain": [
       "(180, 25)"
      ]
     },
     "execution_count": 30,
     "metadata": {},
     "output_type": "execute_result"
    }
   ],
   "source": [
    "data.shape"
   ]
  },
  {
   "cell_type": "code",
   "execution_count": 31,
   "id": "421ac7ca",
   "metadata": {},
   "outputs": [],
   "source": [
    "ndata = data.merge(df, how='outer', on='STIP Key')"
   ]
  },
  {
   "cell_type": "code",
   "execution_count": 32,
   "id": "72921ce4",
   "metadata": {},
   "outputs": [
    {
     "data": {
      "text/plain": [
       "(188, 27)"
      ]
     },
     "execution_count": 32,
     "metadata": {},
     "output_type": "execute_result"
    }
   ],
   "source": [
    "ndata.shape"
   ]
  },
  {
   "cell_type": "code",
   "execution_count": 33,
   "id": "8e3ab956",
   "metadata": {},
   "outputs": [],
   "source": [
    "ndata.to_excel(os.path.join(path, 'MTIP24_27_List_Updated.xlsx'), \n",
    "               sheet_name='2024-2027 Project List', \n",
    "               index=False)  "
   ]
  }
 ],
 "metadata": {
  "kernelspec": {
   "display_name": "Python 3",
   "language": "python",
   "name": "python3"
  },
  "language_info": {
   "codemirror_mode": {
    "name": "ipython",
    "version": 3
   },
   "file_extension": ".py",
   "mimetype": "text/x-python",
   "name": "python",
   "nbconvert_exporter": "python",
   "pygments_lexer": "ipython3",
   "version": "3.8.8"
  }
 },
 "nbformat": 4,
 "nbformat_minor": 5
}
