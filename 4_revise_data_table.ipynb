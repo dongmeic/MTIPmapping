{
 "cells": [
  {
   "cell_type": "code",
   "execution_count": 1,
   "id": "01245671",
   "metadata": {},
   "outputs": [],
   "source": [
    "import pandas as pd\n",
    "import numpy as np\n",
    "import geopandas as gpd\n",
    "import os\n",
    "from sqlalchemy import create_engine"
   ]
  },
  {
   "cell_type": "code",
   "execution_count": 2,
   "id": "088a77db",
   "metadata": {},
   "outputs": [],
   "source": [
    "path = r'T:\\MPO\\TIP\\TIP FY24-27\\Maps\\Data'"
   ]
  },
  {
   "cell_type": "code",
   "execution_count": 3,
   "id": "3bbf39a8",
   "metadata": {},
   "outputs": [],
   "source": [
    "file = path + '\\\\MTIP24_27_List.xlsx'"
   ]
  },
  {
   "cell_type": "code",
   "execution_count": 4,
   "id": "a1bfaa77",
   "metadata": {},
   "outputs": [],
   "source": [
    "data = pd.read_excel(file)"
   ]
  },
  {
   "cell_type": "code",
   "execution_count": 5,
   "id": "5b1ee345",
   "metadata": {},
   "outputs": [
    {
     "data": {
      "text/plain": [
       "Index(['Geo', 'Project Name', 'MTIP ID #', 'Project Description', 'Work Type',\n",
       "       'Perf. Meas.', 'RTP Project Number / Ref.', 'In AQ CATS?', 'In\\nAQMA?',\n",
       "       'Air Quality Status', 'STIP Key', 'FFY', 'Phase', 'Phase Status',\n",
       "       'Federal Funding ', 'Federal Funding Source', 'Federal Req. Match',\n",
       "       'Federal Req. Match Source', 'Total Fed+ Req Match', 'Other Funding',\n",
       "       'Other Funding Source', 'Total All Sources'],\n",
       "      dtype='object')"
      ]
     },
     "execution_count": 5,
     "metadata": {},
     "output_type": "execute_result"
    }
   ],
   "source": [
    "data.columns"
   ]
  },
  {
   "cell_type": "code",
   "execution_count": 6,
   "id": "b6662f81",
   "metadata": {},
   "outputs": [
    {
     "data": {
      "text/plain": [
       "array(['EXEMPT / Other-Planning and Technical Studies (IAC conf 4/26/20)',\n",
       "       nan, 'EXEMPT / Other-Planning and Technical Studies',\n",
       "       'N/A (IAC conf 4/26/20)', 'N/A (IAC conf 11/3/21)',\n",
       "       'EXEMPT / Air Quality - Bicycle and Pedestrian facilities',\n",
       "       'Outside PM10 air quality maintenance area',\n",
       "       'Outside PM10 air quality maintenance area (IAC conf 11/3/21)',\n",
       "       'EXEMPT / Safety - Highway Safety Improvement Program implementation',\n",
       "       'EXEMPT / Other - Specific activities which do not involve or lead directly to construction',\n",
       "       'EXEMPT / Other - Planning and Technical Studies',\n",
       "       'EXEMPT / Safety - Projects that correct, improve, or eliminate a hazardous location or feature',\n",
       "       'Part of K16223, project level conformity was approved in interagency meeting 12/23/2020',\n",
       "       'EXEMPT / Safety - Highway Safety Improvement Program implementation; Air Quality - Bicycle and Pedestrian facilities (IAC conf 4/26/20)',\n",
       "       'EXEMPT / Safety - Projects that correct, improve, or eliminate a hazardous location or feature (IAC conf 11/3/21)',\n",
       "       'EXEMPT / Safety - Projects that correct, improve, or eliminate a hazardous location or feature; Air Quality - Bicycle and pedestrian facilities (IAC conf 4/26/20)',\n",
       "       'EXEMPT / Safety - Highway Safety Improvement Program implementation (IAC conf 4/26/20)',\n",
       "       'EXEMPT / Safety - Projects that correct, improve, or eliminate a hazardous location or feature. (IAC conf 11/3/21)',\n",
       "       'EXEMPT / Safety - Projects that correct, improve, or eliminate a hazardous location or feature (IAC conf 4/26/20)',\n",
       "       'EXEMPT / Air Quality - Bicycle and Pedestrian facilities; Safety - Projects that correct, improve, or eliminate a hazardous location or feature',\n",
       "       'EXEMPT / Safety - Pavement resurfacing and/or rehabilitation; Safety - Projects that correct, improve, or eliminate a hazardous location or feature',\n",
       "       'EXEMPT / Safety - Pavement resurfacing and/or rehabilitation',\n",
       "       'EXEMPT / Safety - Pavement resurfacing and/or rehabilitation (IAC conf 12/9/21)',\n",
       "       'EXEMPT / Safety - Pavement resurfacing and/or rehabilitation; Air Quality - Bicycle and pedestrian facilities (IAC conf 4/26/20)',\n",
       "       'EXEMPT / Mass Transit - Purchase of new buses to replace existing vehicles or for minor expansions of the fleet.',\n",
       "       'EXEMPT / Mass Transit - Reconstruction or renovation of transit buildings and structures.',\n",
       "       'EXEMPT / Mass Transit - Operating assistance to transit agencies',\n",
       "       'EXEMPT / Mass Transit - Rehabilitation of transit vehicles.',\n",
       "       'EXEMPT / Mass Transit - Reconstruction or renovation of transit buildings and structures; Construction of small passenger shelters and information kiosks.',\n",
       "       'EXEMPT / Mass Transit - Reconstruction or renovation of transit buildings and structures; Purchase of office, shop , and operating equipment for existing facilities.',\n",
       "       'EXEMPT / Safety - Projects that correct, improve, or eliminate a hazardous location or feature; Safety - Lighting improvements; Mass Transit - Reconstruction or renovation of transit buildings and structures; Mass Transit - Construction of small passenger shelters and information kiosks',\n",
       "       'EXEMPT / Mass Transit - Purchase of operating equipment for vehicles',\n",
       "       'EXEMPT / Mass Transit - Purchase of operating equipment for vehicles (IAC conf 4/26/20)',\n",
       "       'EXEMPT / Activities which do not involve or lead directly to construction',\n",
       "       'EXEMPT / Air Quality-Bicycle and pedestrian facilities',\n",
       "       'EXEMPT / Pavement resurfacing and/or rehabilitation',\n",
       "       'EXEMPT / Safety - Pavement resurfacing and/or rehabilitation (IAC conf 4/26/20)'],\n",
       "      dtype=object)"
      ]
     },
     "execution_count": 6,
     "metadata": {},
     "output_type": "execute_result"
    }
   ],
   "source": [
    "data['Air Quality Status'].unique()"
   ]
  },
  {
   "cell_type": "code",
   "execution_count": 7,
   "id": "39c0ea4c",
   "metadata": {},
   "outputs": [],
   "source": [
    "def getAQvars(x, var=['AQ Exempt?', 'AQ Status', 'IAC']):\n",
    "    if str(x) == 'nan':\n",
    "        res = None\n",
    "    elif var == 'AQ Exempt?':\n",
    "        if 'EXEMPT' in x:\n",
    "            res = 'Yes'\n",
    "        else:\n",
    "            res = 'No'\n",
    "    \n",
    "    elif var == 'IAC':\n",
    "        if 'IAC' in x:\n",
    "            res = 'IAC ' + x.split(' (IAC ')[1].split(')')[0]\n",
    "        else:\n",
    "            res = 'N/A'\n",
    "    \n",
    "    elif var == 'AQ Status':\n",
    "        if 'EXEMPT' in x:\n",
    "            if 'IAC' in x:\n",
    "                res = x.split('EXEMPT / ')[1].split(' (IAC')[0]\n",
    "            else:\n",
    "                res = x.split('EXEMPT / ')[1]\n",
    "        elif 'IAC' in x:\n",
    "            res = x.split(' (IAC')[0]\n",
    "        else:\n",
    "            res = x\n",
    "    \n",
    "    return res"
   ]
  },
  {
   "cell_type": "code",
   "execution_count": 8,
   "id": "7a052ccf",
   "metadata": {
    "scrolled": true
   },
   "outputs": [],
   "source": [
    "data['AQ Exempt?'] = data['Air Quality Status'].apply(lambda x: getAQvars(x, var='AQ Exempt?')) "
   ]
  },
  {
   "cell_type": "code",
   "execution_count": 9,
   "id": "dee48aa5",
   "metadata": {},
   "outputs": [],
   "source": [
    "data['AQ Status'] = data['Air Quality Status'].apply(lambda x: getAQvars(x, var='AQ Status')) "
   ]
  },
  {
   "cell_type": "code",
   "execution_count": 10,
   "id": "271d39b2",
   "metadata": {},
   "outputs": [],
   "source": [
    "data['IAC'] = data['Air Quality Status'].apply(lambda x: getAQvars(x, var='IAC')) "
   ]
  },
  {
   "cell_type": "code",
   "execution_count": 11,
   "id": "0c2efbad",
   "metadata": {},
   "outputs": [],
   "source": [
    "points = gpd.read_file(os.path.join(path, 'FY24_27_points.shp'))"
   ]
  },
  {
   "cell_type": "code",
   "execution_count": 12,
   "id": "b2a43107",
   "metadata": {},
   "outputs": [],
   "source": [
    "lines = gpd.read_file(os.path.join(path, 'FY24_27_lines.shp'))"
   ]
  },
  {
   "cell_type": "code",
   "execution_count": 13,
   "id": "a639c449",
   "metadata": {},
   "outputs": [],
   "source": [
    "# read data from RLIDgeo\n",
    "engine = create_engine(   \n",
    "\"mssql+pyodbc:///?odbc_connect=\"\n",
    "\"Driver%3D%7BODBC+Driver+17+for+SQL+Server%7D%3B\"\n",
    "\"Server%3Drliddb.int.lcog.org%2C5433%3B\"\n",
    "\"Database%3DRLIDGeo%3B\"\n",
    "\"Trusted_Connection%3Dyes%3B\"\n",
    "\"ApplicationIntent%3DReadWrite%3B\"\n",
    "\"WSID%3Dclwrk4087.int.lcog.org%3B\")"
   ]
  },
  {
   "cell_type": "code",
   "execution_count": 14,
   "id": "bb9edbf7",
   "metadata": {},
   "outputs": [],
   "source": [
    "rep_sql = '''\n",
    "SELECT \n",
    "repdist AS id,\n",
    "repname AS name,\n",
    "Shape.STAsBinary() AS geometry\n",
    "FROM dbo.StateRepDist;\n",
    "'''"
   ]
  },
  {
   "cell_type": "code",
   "execution_count": 15,
   "id": "45709f39",
   "metadata": {},
   "outputs": [],
   "source": [
    "sen_sql = '''\n",
    "SELECT \n",
    "sendist AS id,\n",
    "senname AS name,\n",
    "Shape.STAsBinary() AS geometry\n",
    "FROM dbo.StateSenDist;\n",
    "'''"
   ]
  },
  {
   "cell_type": "code",
   "execution_count": 16,
   "id": "1145e058",
   "metadata": {},
   "outputs": [],
   "source": [
    "StateRepDist = gpd.GeoDataFrame.from_postgis(rep_sql, engine, geom_col='geometry')"
   ]
  },
  {
   "cell_type": "code",
   "execution_count": 17,
   "id": "7e7cfba6",
   "metadata": {},
   "outputs": [],
   "source": [
    "StateRepDist.crs = \"EPSG:2914\""
   ]
  },
  {
   "cell_type": "code",
   "execution_count": 18,
   "id": "cd58fee7",
   "metadata": {},
   "outputs": [],
   "source": [
    "StateSenDist = gpd.GeoDataFrame.from_postgis(sen_sql, engine, geom_col='geometry') "
   ]
  },
  {
   "cell_type": "code",
   "execution_count": 19,
   "id": "9d006061",
   "metadata": {},
   "outputs": [],
   "source": [
    "StateSenDist.crs = \"EPSG:2914\""
   ]
  },
  {
   "cell_type": "code",
   "execution_count": 20,
   "id": "e51df058",
   "metadata": {},
   "outputs": [],
   "source": [
    "StateRepDist = StateRepDist.to_crs(epsg=2992)"
   ]
  },
  {
   "cell_type": "code",
   "execution_count": 21,
   "id": "616aa20b",
   "metadata": {},
   "outputs": [],
   "source": [
    "StateSenDist = StateSenDist.to_crs(epsg=2992)"
   ]
  },
  {
   "cell_type": "code",
   "execution_count": 22,
   "id": "8e8a1012",
   "metadata": {},
   "outputs": [],
   "source": [
    "# points in polygons\n",
    "def get_pip(points, polygon):\n",
    "    id_list = list(polygon.id)\n",
    "    df = pd.DataFrame().reindex_like(points).dropna()\n",
    "    for ID in id_list:\n",
    "        pol = (polygon.loc[polygon.id==ID])\n",
    "        pol.reset_index(drop = True, inplace = True)\n",
    "        pip_mask = points.within(pol.loc[0, 'geometry'])\n",
    "        pip_data = points.loc[pip_mask].copy()\n",
    "        pip_data['id']= ID\n",
    "        df = df.append(pip_data)\n",
    "    df.reset_index(inplace=True, drop=True)\n",
    "    df = df.drop(columns='geometry')\n",
    "    return df"
   ]
  },
  {
   "cell_type": "code",
   "execution_count": 23,
   "id": "b36a7982",
   "metadata": {},
   "outputs": [],
   "source": [
    "points_in_sendist = get_pip(points, StateSenDist)"
   ]
  },
  {
   "cell_type": "code",
   "execution_count": 24,
   "id": "c1eb1a76",
   "metadata": {},
   "outputs": [],
   "source": [
    "points_in_sendist.rename(columns={'id':'Senator District'}, inplace=True)"
   ]
  },
  {
   "cell_type": "code",
   "execution_count": 25,
   "id": "abfbb62c",
   "metadata": {},
   "outputs": [],
   "source": [
    "points_in_repdist = get_pip(points, StateRepDist)"
   ]
  },
  {
   "cell_type": "code",
   "execution_count": 26,
   "id": "52254b56",
   "metadata": {},
   "outputs": [],
   "source": [
    "points_in_repdist.rename(columns={'id':'Representative District'}, inplace=True)"
   ]
  },
  {
   "cell_type": "code",
   "execution_count": 27,
   "id": "b3fcf4aa",
   "metadata": {},
   "outputs": [],
   "source": [
    "lines_in_sendist = gpd.sjoin(lines, StateSenDist)"
   ]
  },
  {
   "cell_type": "code",
   "execution_count": 28,
   "id": "5c677b13",
   "metadata": {},
   "outputs": [],
   "source": [
    "lines_in_sendist.rename(columns={'id':'Senator District'}, inplace=True)"
   ]
  },
  {
   "cell_type": "code",
   "execution_count": 29,
   "id": "0aa36bab",
   "metadata": {},
   "outputs": [],
   "source": [
    "lines_in_repdist = gpd.sjoin(lines, StateRepDist)"
   ]
  },
  {
   "cell_type": "code",
   "execution_count": 30,
   "id": "6525f2d2",
   "metadata": {},
   "outputs": [],
   "source": [
    "lines_in_repdist.rename(columns={'id':'Representative District'}, inplace=True)"
   ]
  },
  {
   "cell_type": "code",
   "execution_count": 31,
   "id": "ad24c684",
   "metadata": {},
   "outputs": [
    {
     "data": {
      "text/plain": [
       "31"
      ]
     },
     "execution_count": 31,
     "metadata": {},
     "output_type": "execute_result"
    }
   ],
   "source": [
    "len(points.STIP_Key.unique()) + len(lines.STIP_Key.unique()) "
   ]
  },
  {
   "cell_type": "code",
   "execution_count": 32,
   "id": "e2ff466c",
   "metadata": {
    "scrolled": true
   },
   "outputs": [
    {
     "data": {
      "text/plain": [
       "31"
      ]
     },
     "execution_count": 32,
     "metadata": {},
     "output_type": "execute_result"
    }
   ],
   "source": [
    "np.concatenate((points.STIP_Key.unique(), lines.STIP_Key.unique())).shape[0]"
   ]
  },
  {
   "cell_type": "code",
   "execution_count": 34,
   "id": "ec4eef03",
   "metadata": {},
   "outputs": [],
   "source": [
    "points_in_poly = points_in_repdist.drop_duplicates(ignore_index=True)[['STIP_Key', 'Representative District']].merge(points_in_sendist.drop_duplicates(ignore_index=True)[['STIP_Key', 'Senator District']], \n",
    "                                                                            on ='STIP_Key')"
   ]
  },
  {
   "cell_type": "code",
   "execution_count": 35,
   "id": "5eccfe36",
   "metadata": {},
   "outputs": [],
   "source": [
    "lines_in_poly = lines_in_repdist.drop_duplicates(ignore_index=True)[['STIP_Key', 'Representative District']].merge(lines_in_sendist.drop_duplicates(ignore_index=True)[['STIP_Key', 'Senator District']], \n",
    "                                                                            on ='STIP_Key')"
   ]
  },
  {
   "cell_type": "code",
   "execution_count": 36,
   "id": "48961c8e",
   "metadata": {},
   "outputs": [],
   "source": [
    "df = points_in_poly.append(lines_in_poly, ignore_index=True)"
   ]
  },
  {
   "cell_type": "code",
   "execution_count": 37,
   "id": "dec88738",
   "metadata": {},
   "outputs": [],
   "source": [
    "df.rename(columns={'STIP_Key':'STIP Key'}, inplace=True)"
   ]
  },
  {
   "cell_type": "code",
   "execution_count": 43,
   "id": "b1fc0cba",
   "metadata": {},
   "outputs": [],
   "source": [
    "df['STIP Key'] = df['STIP Key'].astype(np.int64)"
   ]
  },
  {
   "cell_type": "code",
   "execution_count": 44,
   "id": "a8c50b15",
   "metadata": {},
   "outputs": [],
   "source": [
    "ndata = data.merge(df, on='STIP Key')"
   ]
  },
  {
   "cell_type": "code",
   "execution_count": 49,
   "id": "0b4545e6",
   "metadata": {},
   "outputs": [
    {
     "ename": "ValueError",
     "evalue": "No Excel writer 'io.excel.xlsx.writer'",
     "output_type": "error",
     "traceback": [
      "\u001b[1;31m---------------------------------------------------------------------------\u001b[0m",
      "\u001b[1;31mKeyError\u001b[0m                                  Traceback (most recent call last)",
      "\u001b[1;32mC:\\ProgramData\\Anaconda3\\envs\\geoenv\\lib\\site-packages\\pandas\\io\\excel\\_util.py\u001b[0m in \u001b[0;36mget_writer\u001b[1;34m(engine_name)\u001b[0m\n\u001b[0;32m     55\u001b[0m     \u001b[1;32mtry\u001b[0m\u001b[1;33m:\u001b[0m\u001b[1;33m\u001b[0m\u001b[1;33m\u001b[0m\u001b[0m\n\u001b[1;32m---> 56\u001b[1;33m         \u001b[1;32mreturn\u001b[0m \u001b[0m_writers\u001b[0m\u001b[1;33m[\u001b[0m\u001b[0mengine_name\u001b[0m\u001b[1;33m]\u001b[0m\u001b[1;33m\u001b[0m\u001b[1;33m\u001b[0m\u001b[0m\n\u001b[0m\u001b[0;32m     57\u001b[0m     \u001b[1;32mexcept\u001b[0m \u001b[0mKeyError\u001b[0m \u001b[1;32mas\u001b[0m \u001b[0merr\u001b[0m\u001b[1;33m:\u001b[0m\u001b[1;33m\u001b[0m\u001b[1;33m\u001b[0m\u001b[0m\n",
      "\u001b[1;31mKeyError\u001b[0m: 'io.excel.xlsx.writer'",
      "\nThe above exception was the direct cause of the following exception:\n",
      "\u001b[1;31mValueError\u001b[0m                                Traceback (most recent call last)",
      "\u001b[1;32m<ipython-input-49-7b7050165fb5>\u001b[0m in \u001b[0;36m<module>\u001b[1;34m\u001b[0m\n\u001b[1;32m----> 1\u001b[1;33m ndata.to_excel(os.path.join(path, 'MTIP24_27_List_Updated.xlsx'), \n\u001b[0m\u001b[0;32m      2\u001b[0m                \u001b[0msheet_name\u001b[0m\u001b[1;33m=\u001b[0m\u001b[1;34m'2024-2027 Project List'\u001b[0m\u001b[1;33m,\u001b[0m\u001b[1;33m\u001b[0m\u001b[1;33m\u001b[0m\u001b[0m\n\u001b[0;32m      3\u001b[0m                \u001b[0mindex\u001b[0m\u001b[1;33m=\u001b[0m\u001b[1;32mFalse\u001b[0m\u001b[1;33m,\u001b[0m\u001b[1;33m\u001b[0m\u001b[1;33m\u001b[0m\u001b[0m\n\u001b[0;32m      4\u001b[0m                engine='io.excel.xlsx.writer')  \n",
      "\u001b[1;32mC:\\ProgramData\\Anaconda3\\envs\\geoenv\\lib\\site-packages\\pandas\\core\\generic.py\u001b[0m in \u001b[0;36mto_excel\u001b[1;34m(self, excel_writer, sheet_name, na_rep, float_format, columns, header, index, index_label, startrow, startcol, engine, merge_cells, encoding, inf_rep, verbose, freeze_panes, storage_options)\u001b[0m\n\u001b[0;32m   2187\u001b[0m             \u001b[0minf_rep\u001b[0m\u001b[1;33m=\u001b[0m\u001b[0minf_rep\u001b[0m\u001b[1;33m,\u001b[0m\u001b[1;33m\u001b[0m\u001b[1;33m\u001b[0m\u001b[0m\n\u001b[0;32m   2188\u001b[0m         )\n\u001b[1;32m-> 2189\u001b[1;33m         formatter.write(\n\u001b[0m\u001b[0;32m   2190\u001b[0m             \u001b[0mexcel_writer\u001b[0m\u001b[1;33m,\u001b[0m\u001b[1;33m\u001b[0m\u001b[1;33m\u001b[0m\u001b[0m\n\u001b[0;32m   2191\u001b[0m             \u001b[0msheet_name\u001b[0m\u001b[1;33m=\u001b[0m\u001b[0msheet_name\u001b[0m\u001b[1;33m,\u001b[0m\u001b[1;33m\u001b[0m\u001b[1;33m\u001b[0m\u001b[0m\n",
      "\u001b[1;32mC:\\ProgramData\\Anaconda3\\envs\\geoenv\\lib\\site-packages\\pandas\\io\\formats\\excel.py\u001b[0m in \u001b[0;36mwrite\u001b[1;34m(self, writer, sheet_name, startrow, startcol, freeze_panes, engine, storage_options)\u001b[0m\n\u001b[0;32m    813\u001b[0m             \u001b[1;31m# abstract class 'ExcelWriter' with abstract attributes 'engine',\u001b[0m\u001b[1;33m\u001b[0m\u001b[1;33m\u001b[0m\u001b[1;33m\u001b[0m\u001b[0m\n\u001b[0;32m    814\u001b[0m             \u001b[1;31m# 'save', 'supported_extensions' and 'write_cells'  [abstract]\u001b[0m\u001b[1;33m\u001b[0m\u001b[1;33m\u001b[0m\u001b[1;33m\u001b[0m\u001b[0m\n\u001b[1;32m--> 815\u001b[1;33m             writer = ExcelWriter(  # type: ignore[abstract]\n\u001b[0m\u001b[0;32m    816\u001b[0m                 \u001b[0mwriter\u001b[0m\u001b[1;33m,\u001b[0m \u001b[0mengine\u001b[0m\u001b[1;33m=\u001b[0m\u001b[0mengine\u001b[0m\u001b[1;33m,\u001b[0m \u001b[0mstorage_options\u001b[0m\u001b[1;33m=\u001b[0m\u001b[0mstorage_options\u001b[0m\u001b[1;33m\u001b[0m\u001b[1;33m\u001b[0m\u001b[0m\n\u001b[0;32m    817\u001b[0m             )\n",
      "\u001b[1;32mC:\\ProgramData\\Anaconda3\\envs\\geoenv\\lib\\site-packages\\pandas\\io\\excel\\_base.py\u001b[0m in \u001b[0;36m__new__\u001b[1;34m(cls, path, engine, **kwargs)\u001b[0m\n\u001b[0;32m    736\u001b[0m                     )\n\u001b[0;32m    737\u001b[0m \u001b[1;33m\u001b[0m\u001b[0m\n\u001b[1;32m--> 738\u001b[1;33m             \u001b[0mcls\u001b[0m \u001b[1;33m=\u001b[0m \u001b[0mget_writer\u001b[0m\u001b[1;33m(\u001b[0m\u001b[0mengine\u001b[0m\u001b[1;33m)\u001b[0m\u001b[1;33m\u001b[0m\u001b[1;33m\u001b[0m\u001b[0m\n\u001b[0m\u001b[0;32m    739\u001b[0m \u001b[1;33m\u001b[0m\u001b[0m\n\u001b[0;32m    740\u001b[0m         \u001b[1;32mreturn\u001b[0m \u001b[0mobject\u001b[0m\u001b[1;33m.\u001b[0m\u001b[0m__new__\u001b[0m\u001b[1;33m(\u001b[0m\u001b[0mcls\u001b[0m\u001b[1;33m)\u001b[0m\u001b[1;33m\u001b[0m\u001b[1;33m\u001b[0m\u001b[0m\n",
      "\u001b[1;32mC:\\ProgramData\\Anaconda3\\envs\\geoenv\\lib\\site-packages\\pandas\\io\\excel\\_util.py\u001b[0m in \u001b[0;36mget_writer\u001b[1;34m(engine_name)\u001b[0m\n\u001b[0;32m     56\u001b[0m         \u001b[1;32mreturn\u001b[0m \u001b[0m_writers\u001b[0m\u001b[1;33m[\u001b[0m\u001b[0mengine_name\u001b[0m\u001b[1;33m]\u001b[0m\u001b[1;33m\u001b[0m\u001b[1;33m\u001b[0m\u001b[0m\n\u001b[0;32m     57\u001b[0m     \u001b[1;32mexcept\u001b[0m \u001b[0mKeyError\u001b[0m \u001b[1;32mas\u001b[0m \u001b[0merr\u001b[0m\u001b[1;33m:\u001b[0m\u001b[1;33m\u001b[0m\u001b[1;33m\u001b[0m\u001b[0m\n\u001b[1;32m---> 58\u001b[1;33m         \u001b[1;32mraise\u001b[0m \u001b[0mValueError\u001b[0m\u001b[1;33m(\u001b[0m\u001b[1;34mf\"No Excel writer '{engine_name}'\"\u001b[0m\u001b[1;33m)\u001b[0m \u001b[1;32mfrom\u001b[0m \u001b[0merr\u001b[0m\u001b[1;33m\u001b[0m\u001b[1;33m\u001b[0m\u001b[0m\n\u001b[0m\u001b[0;32m     59\u001b[0m \u001b[1;33m\u001b[0m\u001b[0m\n\u001b[0;32m     60\u001b[0m \u001b[1;33m\u001b[0m\u001b[0m\n",
      "\u001b[1;31mValueError\u001b[0m: No Excel writer 'io.excel.xlsx.writer'"
     ]
    }
   ],
   "source": [
    "ndata.to_excel(os.path.join(path, 'MTIP24_27_List_Updated.xlsx'), \n",
    "               sheet_name='2024-2027 Project List', \n",
    "               index=False,\n",
    "               engine='io.excel.xlsx.writer')  "
   ]
  }
 ],
 "metadata": {
  "kernelspec": {
   "display_name": "Python 3",
   "language": "python",
   "name": "python3"
  },
  "language_info": {
   "codemirror_mode": {
    "name": "ipython",
    "version": 3
   },
   "file_extension": ".py",
   "mimetype": "text/x-python",
   "name": "python",
   "nbconvert_exporter": "python",
   "pygments_lexer": "ipython3",
   "version": "3.8.8"
  }
 },
 "nbformat": 4,
 "nbformat_minor": 5
}
