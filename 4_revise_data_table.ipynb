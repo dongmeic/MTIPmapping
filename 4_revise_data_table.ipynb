{
 "cells": [
  {
   "cell_type": "code",
   "execution_count": 1,
   "id": "218fa3fa",
   "metadata": {},
   "outputs": [],
   "source": [
    "import pandas as pd\n",
    "import numpy as np"
   ]
  },
  {
   "cell_type": "code",
   "execution_count": null,
   "id": "08012d19",
   "metadata": {},
   "outputs": [],
   "source": []
  },
  {
   "cell_type": "code",
   "execution_count": 2,
   "id": "a4f09797",
   "metadata": {},
   "outputs": [],
   "source": [
    "path = r'T:\\MPO\\TIP\\TIP FY24-27\\Maps\\Data'"
   ]
  },
  {
   "cell_type": "code",
   "execution_count": 3,
   "id": "46e33ab0",
   "metadata": {},
   "outputs": [],
   "source": [
    "file = path + '\\\\MTIP24_27_List.xlsx'"
   ]
  },
  {
   "cell_type": "code",
   "execution_count": 4,
   "id": "b8481f9f",
   "metadata": {},
   "outputs": [],
   "source": [
    "data = pd.read_excel(file)"
   ]
  },
  {
   "cell_type": "code",
   "execution_count": 5,
   "id": "cec436d4",
   "metadata": {},
   "outputs": [
    {
     "data": {
      "text/plain": [
       "Index(['Geo', 'Project Name', 'MTIP ID #', 'Project Description', 'Work Type',\n",
       "       'Perf. Meas.', 'RTP Project Number / Ref.', 'In AQ CATS?', 'In\\nAQMA?',\n",
       "       'Air Quality Status', 'STIP Key', 'FFY', 'Phase', 'Phase Status',\n",
       "       'Federal Funding ', 'Federal Funding Source', 'Federal Req. Match',\n",
       "       'Federal Req. Match Source', 'Total Fed+ Req Match', 'Other Funding',\n",
       "       'Other Funding Source', 'Total All Sources'],\n",
       "      dtype='object')"
      ]
     },
     "execution_count": 5,
     "metadata": {},
     "output_type": "execute_result"
    }
   ],
   "source": [
    "data.columns"
   ]
  },
  {
   "cell_type": "code",
   "execution_count": 39,
   "id": "4c8dc848",
   "metadata": {},
   "outputs": [
    {
     "data": {
      "text/plain": [
       "array(['EXEMPT / Other-Planning and Technical Studies (IAC conf 4/26/20)',\n",
       "       nan, 'EXEMPT / Other-Planning and Technical Studies',\n",
       "       'N/A (IAC conf 4/26/20)', 'N/A (IAC conf 11/3/21)',\n",
       "       'EXEMPT / Air Quality - Bicycle and Pedestrian facilities',\n",
       "       'Outside PM10 air quality maintenance area',\n",
       "       'Outside PM10 air quality maintenance area (IAC conf 11/3/21)',\n",
       "       'EXEMPT / Safety - Highway Safety Improvement Program implementation',\n",
       "       'EXEMPT / Other - Specific activities which do not involve or lead directly to construction',\n",
       "       'EXEMPT / Other - Planning and Technical Studies',\n",
       "       'EXEMPT / Safety - Projects that correct, improve, or eliminate a hazardous location or feature',\n",
       "       'Part of K16223, project level conformity was approved in interagency meeting 12/23/2020',\n",
       "       'EXEMPT / Safety - Highway Safety Improvement Program implementation; Air Quality - Bicycle and Pedestrian facilities (IAC conf 4/26/20)',\n",
       "       'EXEMPT / Safety - Projects that correct, improve, or eliminate a hazardous location or feature (IAC conf 11/3/21)',\n",
       "       'EXEMPT / Safety - Projects that correct, improve, or eliminate a hazardous location or feature; Air Quality - Bicycle and pedestrian facilities (IAC conf 4/26/20)',\n",
       "       'EXEMPT / Safety - Highway Safety Improvement Program implementation (IAC conf 4/26/20)',\n",
       "       'EXEMPT / Safety - Projects that correct, improve, or eliminate a hazardous location or feature. (IAC conf 11/3/21)',\n",
       "       'EXEMPT / Safety - Projects that correct, improve, or eliminate a hazardous location or feature (IAC conf 4/26/20)',\n",
       "       'EXEMPT / Air Quality - Bicycle and Pedestrian facilities; Safety - Projects that correct, improve, or eliminate a hazardous location or feature',\n",
       "       'EXEMPT / Safety - Pavement resurfacing and/or rehabilitation; Safety - Projects that correct, improve, or eliminate a hazardous location or feature',\n",
       "       'EXEMPT / Safety - Pavement resurfacing and/or rehabilitation',\n",
       "       'EXEMPT / Safety - Pavement resurfacing and/or rehabilitation (IAC conf 12/9/21)',\n",
       "       'EXEMPT / Safety - Pavement resurfacing and/or rehabilitation; Air Quality - Bicycle and pedestrian facilities (IAC conf 4/26/20)',\n",
       "       'EXEMPT / Mass Transit - Purchase of new buses to replace existing vehicles or for minor expansions of the fleet.',\n",
       "       'EXEMPT / Mass Transit - Reconstruction or renovation of transit buildings and structures.',\n",
       "       'EXEMPT / Mass Transit - Operating assistance to transit agencies',\n",
       "       'EXEMPT / Mass Transit - Rehabilitation of transit vehicles.',\n",
       "       'EXEMPT / Mass Transit - Reconstruction or renovation of transit buildings and structures; Construction of small passenger shelters and information kiosks.',\n",
       "       'EXEMPT / Mass Transit - Reconstruction or renovation of transit buildings and structures; Purchase of office, shop , and operating equipment for existing facilities.',\n",
       "       'EXEMPT / Safety - Projects that correct, improve, or eliminate a hazardous location or feature; Safety - Lighting improvements; Mass Transit - Reconstruction or renovation of transit buildings and structures; Mass Transit - Construction of small passenger shelters and information kiosks',\n",
       "       'EXEMPT / Mass Transit - Purchase of operating equipment for vehicles',\n",
       "       'EXEMPT / Mass Transit - Purchase of operating equipment for vehicles (IAC conf 4/26/20)',\n",
       "       'EXEMPT / Activities which do not involve or lead directly to construction',\n",
       "       'EXEMPT / Air Quality-Bicycle and pedestrian facilities',\n",
       "       'EXEMPT / Pavement resurfacing and/or rehabilitation',\n",
       "       'EXEMPT / Safety - Pavement resurfacing and/or rehabilitation (IAC conf 4/26/20)'],\n",
       "      dtype=object)"
      ]
     },
     "execution_count": 39,
     "metadata": {},
     "output_type": "execute_result"
    }
   ],
   "source": [
    "data['Air Quality Status'].unique()"
   ]
  },
  {
   "cell_type": "code",
   "execution_count": 53,
   "id": "0cad24e0",
   "metadata": {},
   "outputs": [],
   "source": [
    "def getAQvars(x, var=['AQ Exempt?', 'AQ Status', 'IAC']):\n",
    "    if str(x) == 'nan':\n",
    "        res = None\n",
    "    elif var == 'AQ Exempt?':\n",
    "        if 'EXEMPT' in x:\n",
    "            res = 'Yes'\n",
    "        else:\n",
    "            res = 'No'\n",
    "    \n",
    "    elif var == 'IAC':\n",
    "        if 'IAC' in x:\n",
    "            res = 'IAC ' + x.split(' (IAC ')[1].split(')')[0]\n",
    "        else:\n",
    "            res = 'N/A'\n",
    "    \n",
    "    elif var == 'AQ Status':\n",
    "        if 'EXEMPT' in x:\n",
    "            if 'IAC' in x:\n",
    "                res = x.split('EXEMPT / ')[1].split(' (IAC')[0]\n",
    "            else:\n",
    "                res = x.split('EXEMPT / ')[1]\n",
    "        elif 'IAC' in x:\n",
    "            res = x.split(' (IAC')[0]\n",
    "        else:\n",
    "            res = x\n",
    "    \n",
    "    return res"
   ]
  },
  {
   "cell_type": "code",
   "execution_count": 54,
   "id": "c8223af3",
   "metadata": {
    "scrolled": true
   },
   "outputs": [],
   "source": [
    "data['AQ Exempt?'] = data['Air Quality Status'].apply(lambda x: getAQvars(x, var='AQ Exempt?')) "
   ]
  },
  {
   "cell_type": "code",
   "execution_count": 55,
   "id": "12926e41",
   "metadata": {},
   "outputs": [],
   "source": [
    "data['AQ Status'] = data['Air Quality Status'].apply(lambda x: getAQvars(x, var='AQ Status')) "
   ]
  },
  {
   "cell_type": "code",
   "execution_count": 56,
   "id": "8dc02c88",
   "metadata": {},
   "outputs": [],
   "source": [
    "data['IAC'] = data['Air Quality Status'].apply(lambda x: getAQvars(x, var='IAC')) "
   ]
  },
  {
   "cell_type": "code",
   "execution_count": 57,
   "id": "5718aea6",
   "metadata": {},
   "outputs": [
    {
     "data": {
      "text/plain": [
       "array(['Other-Planning and Technical Studies', None, 'N/A',\n",
       "       'Air Quality - Bicycle and Pedestrian facilities',\n",
       "       'Outside PM10 air quality maintenance area',\n",
       "       'Safety - Highway Safety Improvement Program implementation',\n",
       "       'Other - Specific activities which do not involve or lead directly to construction',\n",
       "       'Other - Planning and Technical Studies',\n",
       "       'Safety - Projects that correct, improve, or eliminate a hazardous location or feature',\n",
       "       'Part of K16223, project level conformity was approved in interagency meeting 12/23/2020',\n",
       "       'Safety - Highway Safety Improvement Program implementation; Air Quality - Bicycle and Pedestrian facilities',\n",
       "       'Safety - Projects that correct, improve, or eliminate a hazardous location or feature; Air Quality - Bicycle and pedestrian facilities',\n",
       "       'Safety - Projects that correct, improve, or eliminate a hazardous location or feature.',\n",
       "       'Air Quality - Bicycle and Pedestrian facilities; Safety - Projects that correct, improve, or eliminate a hazardous location or feature',\n",
       "       'Safety - Pavement resurfacing and/or rehabilitation; Safety - Projects that correct, improve, or eliminate a hazardous location or feature',\n",
       "       'Safety - Pavement resurfacing and/or rehabilitation',\n",
       "       'Safety - Pavement resurfacing and/or rehabilitation; Air Quality - Bicycle and pedestrian facilities',\n",
       "       'Mass Transit - Purchase of new buses to replace existing vehicles or for minor expansions of the fleet.',\n",
       "       'Mass Transit - Reconstruction or renovation of transit buildings and structures.',\n",
       "       'Mass Transit - Operating assistance to transit agencies',\n",
       "       'Mass Transit - Rehabilitation of transit vehicles.',\n",
       "       'Mass Transit - Reconstruction or renovation of transit buildings and structures; Construction of small passenger shelters and information kiosks.',\n",
       "       'Mass Transit - Reconstruction or renovation of transit buildings and structures; Purchase of office, shop , and operating equipment for existing facilities.',\n",
       "       'Safety - Projects that correct, improve, or eliminate a hazardous location or feature; Safety - Lighting improvements; Mass Transit - Reconstruction or renovation of transit buildings and structures; Mass Transit - Construction of small passenger shelters and information kiosks',\n",
       "       'Mass Transit - Purchase of operating equipment for vehicles',\n",
       "       'Activities which do not involve or lead directly to construction',\n",
       "       'Air Quality-Bicycle and pedestrian facilities',\n",
       "       'Pavement resurfacing and/or rehabilitation'], dtype=object)"
      ]
     },
     "execution_count": 57,
     "metadata": {},
     "output_type": "execute_result"
    }
   ],
   "source": [
    "data['AQ Status'].unique()"
   ]
  }
 ],
 "metadata": {
  "kernelspec": {
   "display_name": "Python 3",
   "language": "python",
   "name": "python3"
  },
  "language_info": {
   "codemirror_mode": {
    "name": "ipython",
    "version": 3
   },
   "file_extension": ".py",
   "mimetype": "text/x-python",
   "name": "python",
   "nbconvert_exporter": "python",
   "pygments_lexer": "ipython3",
   "version": "3.8.8"
  }
 },
 "nbformat": 4,
 "nbformat_minor": 5
}
