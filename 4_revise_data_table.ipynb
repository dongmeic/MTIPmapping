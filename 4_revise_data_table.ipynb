{
 "cells": [
  {
   "cell_type": "code",
   "execution_count": 1,
   "id": "006110cd",
   "metadata": {},
   "outputs": [],
   "source": [
    "import pandas as pd\n",
    "import numpy as np\n",
    "import geopandas as gpd\n",
    "import os\n",
    "from sqlalchemy import create_engine\n",
    "import re\n",
    "from MTIPmapping import *"
   ]
  },
  {
   "cell_type": "code",
   "execution_count": 2,
   "id": "97c962c8",
   "metadata": {},
   "outputs": [],
   "source": [
    "path = r'T:\\MPO\\TIP\\TIP FY24-27\\Maps\\Data'"
   ]
  },
  {
   "cell_type": "code",
   "execution_count": 3,
   "id": "30e93cb5",
   "metadata": {},
   "outputs": [],
   "source": [
    "file = path + '\\\\MTIP24_27_List.xlsx'"
   ]
  },
  {
   "cell_type": "code",
   "execution_count": 4,
   "id": "61bd3c50",
   "metadata": {},
   "outputs": [],
   "source": [
    "data = pd.read_excel(file)"
   ]
  },
  {
   "cell_type": "code",
   "execution_count": 5,
   "id": "beb22185",
   "metadata": {},
   "outputs": [
    {
     "data": {
      "text/plain": [
       "Index(['Geo', 'Project Name', 'MTIP ID #', 'Project Description', 'Work Type',\n",
       "       'Perf. Meas.', 'RTP Project Number / Ref.', 'In AQ CATS?', 'In\\nAQMA?',\n",
       "       'Air Quality Status', 'STIP Key', 'FFY', 'Phase', 'Phase Status',\n",
       "       'Federal Funding ', 'Federal Funding Source', 'Federal Req. Match',\n",
       "       'Federal Req. Match Source', 'Total Fed+ Req Match', 'Other Funding',\n",
       "       'Other Funding Source', 'Total All Sources'],\n",
       "      dtype='object')"
      ]
     },
     "execution_count": 5,
     "metadata": {},
     "output_type": "execute_result"
    }
   ],
   "source": [
    "data.columns"
   ]
  },
  {
   "cell_type": "code",
   "execution_count": 6,
   "id": "a9e69b09",
   "metadata": {},
   "outputs": [
    {
     "data": {
      "text/plain": [
       "array(['EXEMPT / Other-Planning and Technical Studies (IAC conf 4/26/20)',\n",
       "       nan, 'EXEMPT / Other-Planning and Technical Studies',\n",
       "       'N/A (IAC conf 4/26/20)', 'N/A (IAC conf 11/3/21)',\n",
       "       'EXEMPT / Air Quality - Bicycle and Pedestrian facilities',\n",
       "       'Outside PM10 air quality maintenance area',\n",
       "       'Outside PM10 air quality maintenance area (IAC conf 11/3/21)',\n",
       "       'EXEMPT / Safety - Highway Safety Improvement Program implementation',\n",
       "       'EXEMPT / Other - Specific activities which do not involve or lead directly to construction',\n",
       "       'EXEMPT / Other - Planning and Technical Studies',\n",
       "       'EXEMPT / Safety - Projects that correct, improve, or eliminate a hazardous location or feature',\n",
       "       'Part of K16223, project level conformity was approved in interagency meeting 12/23/2020',\n",
       "       'EXEMPT / Safety - Highway Safety Improvement Program implementation; Air Quality - Bicycle and Pedestrian facilities (IAC conf 4/26/20)',\n",
       "       'EXEMPT / Safety - Projects that correct, improve, or eliminate a hazardous location or feature (IAC conf 11/3/21)',\n",
       "       'EXEMPT / Safety - Projects that correct, improve, or eliminate a hazardous location or feature; Air Quality - Bicycle and pedestrian facilities (IAC conf 4/26/20)',\n",
       "       'EXEMPT / Safety - Highway Safety Improvement Program implementation (IAC conf 4/26/20)',\n",
       "       'EXEMPT / Safety - Projects that correct, improve, or eliminate a hazardous location or feature. (IAC conf 11/3/21)',\n",
       "       'EXEMPT / Safety - Projects that correct, improve, or eliminate a hazardous location or feature (IAC conf 4/26/20)',\n",
       "       'EXEMPT / Air Quality - Bicycle and Pedestrian facilities; Safety - Projects that correct, improve, or eliminate a hazardous location or feature',\n",
       "       'EXEMPT / Safety - Pavement resurfacing and/or rehabilitation; Safety - Projects that correct, improve, or eliminate a hazardous location or feature',\n",
       "       'EXEMPT / Safety - Pavement resurfacing and/or rehabilitation',\n",
       "       'EXEMPT / Safety - Pavement resurfacing and/or rehabilitation (IAC conf 12/9/21)',\n",
       "       'EXEMPT / Safety - Pavement resurfacing and/or rehabilitation; Air Quality - Bicycle and pedestrian facilities (IAC conf 4/26/20)',\n",
       "       'EXEMPT / Mass Transit - Purchase of new buses to replace existing vehicles or for minor expansions of the fleet.',\n",
       "       'EXEMPT / Mass Transit - Reconstruction or renovation of transit buildings and structures.',\n",
       "       'EXEMPT / Mass Transit - Operating assistance to transit agencies',\n",
       "       'EXEMPT / Mass Transit - Rehabilitation of transit vehicles.',\n",
       "       'EXEMPT / Mass Transit - Reconstruction or renovation of transit buildings and structures; Construction of small passenger shelters and information kiosks.',\n",
       "       'EXEMPT / Mass Transit - Reconstruction or renovation of transit buildings and structures; Purchase of office, shop , and operating equipment for existing facilities.',\n",
       "       'EXEMPT / Safety - Projects that correct, improve, or eliminate a hazardous location or feature; Safety - Lighting improvements; Mass Transit - Reconstruction or renovation of transit buildings and structures; Mass Transit - Construction of small passenger shelters and information kiosks',\n",
       "       'EXEMPT / Mass Transit - Purchase of operating equipment for vehicles',\n",
       "       'EXEMPT / Mass Transit - Purchase of operating equipment for vehicles (IAC conf 4/26/20)',\n",
       "       'EXEMPT / Activities which do not involve or lead directly to construction',\n",
       "       'EXEMPT / Air Quality-Bicycle and pedestrian facilities',\n",
       "       'EXEMPT / Pavement resurfacing and/or rehabilitation',\n",
       "       'EXEMPT / Safety - Pavement resurfacing and/or rehabilitation (IAC conf 4/26/20)'],\n",
       "      dtype=object)"
      ]
     },
     "execution_count": 6,
     "metadata": {},
     "output_type": "execute_result"
    }
   ],
   "source": [
    "data['Air Quality Status'].unique()"
   ]
  },
  {
   "cell_type": "code",
   "execution_count": 8,
   "id": "65f7fa70",
   "metadata": {
    "scrolled": true
   },
   "outputs": [],
   "source": [
    "data['AQ Exempt?'] = data['Air Quality Status'].apply(lambda x: getAQvars(x, var='AQ Exempt?')) "
   ]
  },
  {
   "cell_type": "code",
   "execution_count": 9,
   "id": "b05a5701",
   "metadata": {},
   "outputs": [],
   "source": [
    "data['AQ Status'] = data['Air Quality Status'].apply(lambda x: getAQvars(x, var='AQ Status')) "
   ]
  },
  {
   "cell_type": "code",
   "execution_count": 10,
   "id": "21b4391c",
   "metadata": {},
   "outputs": [],
   "source": [
    "data['IAC'] = data['Air Quality Status'].apply(lambda x: getAQvars(x, var='IAC')) "
   ]
  },
  {
   "cell_type": "code",
   "execution_count": 11,
   "id": "dedd5cab",
   "metadata": {},
   "outputs": [],
   "source": [
    "# this data has been modified in ArcGIS Pro after mapping\n",
    "points = gpd.read_file(os.path.join(path, 'FY24_27_points.shp'))"
   ]
  },
  {
   "cell_type": "code",
   "execution_count": 12,
   "id": "73379ca0",
   "metadata": {},
   "outputs": [],
   "source": [
    "# this data has been modified in ArcGIS Pro after mapping\n",
    "lines = gpd.read_file(os.path.join(path, 'FY24_27_lines.shp'))"
   ]
  },
  {
   "cell_type": "code",
   "execution_count": 25,
   "id": "4a21c35b",
   "metadata": {},
   "outputs": [],
   "source": [
    "pointdata = get_district_IDs(dat=newpts, shptype='point', keycol='STIP_Key', \n",
    "                             colnm1='Senator District', colnm2='Representative District')"
   ]
  },
  {
   "cell_type": "code",
   "execution_count": 26,
   "id": "14a78107",
   "metadata": {},
   "outputs": [],
   "source": [
    "linedata = get_district_IDs(dat=lines, shptype='line')"
   ]
  },
  {
   "cell_type": "code",
   "execution_count": 27,
   "id": "5ae4041a",
   "metadata": {},
   "outputs": [],
   "source": [
    "df = pointdata.append(linedata , ignore_index=True)"
   ]
  },
  {
   "cell_type": "code",
   "execution_count": 28,
   "id": "80ae26ce",
   "metadata": {},
   "outputs": [],
   "source": [
    "df.rename(columns={'STIP_Key':'STIP Key'}, inplace=True)"
   ]
  },
  {
   "cell_type": "code",
   "execution_count": 29,
   "id": "4bb77f15",
   "metadata": {},
   "outputs": [],
   "source": [
    "df['STIP Key'] = df['STIP Key'].astype(np.int64)"
   ]
  },
  {
   "cell_type": "code",
   "execution_count": 30,
   "id": "34c877c5",
   "metadata": {},
   "outputs": [
    {
     "data": {
      "text/plain": [
       "(180, 25)"
      ]
     },
     "execution_count": 30,
     "metadata": {},
     "output_type": "execute_result"
    }
   ],
   "source": [
    "data.shape"
   ]
  },
  {
   "cell_type": "code",
   "execution_count": 31,
   "id": "421ac7ca",
   "metadata": {},
   "outputs": [],
   "source": [
    "ndata = data.merge(df, how='outer', on='STIP Key')"
   ]
  },
  {
   "cell_type": "code",
   "execution_count": 32,
   "id": "72921ce4",
   "metadata": {},
   "outputs": [
    {
     "data": {
      "text/plain": [
       "(188, 27)"
      ]
     },
     "execution_count": 32,
     "metadata": {},
     "output_type": "execute_result"
    }
   ],
   "source": [
    "ndata.shape"
   ]
  },
  {
   "cell_type": "code",
   "execution_count": 33,
   "id": "8e3ab956",
   "metadata": {},
   "outputs": [],
   "source": [
    "ndata.to_excel(os.path.join(path, 'MTIP24_27_List_Updated.xlsx'), \n",
    "               sheet_name='2024-2027 Project List', \n",
    "               index=False)  "
   ]
  }
 ],
 "metadata": {
  "kernelspec": {
   "display_name": "Python 3",
   "language": "python",
   "name": "python3"
  },
  "language_info": {
   "codemirror_mode": {
    "name": "ipython",
    "version": 3
   },
   "file_extension": ".py",
   "mimetype": "text/x-python",
   "name": "python",
   "nbconvert_exporter": "python",
   "pygments_lexer": "ipython3",
   "version": "3.8.8"
  }
 },
 "nbformat": 4,
 "nbformat_minor": 5
}
